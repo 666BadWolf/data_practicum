{
 "cells": [
  {
   "cell_type": "markdown",
   "metadata": {
    "id": "19xc91jBvlJu"
   },
   "source": [
    "<div style=\"border:solid green 3px; padding: 20px\">\n",
    "\n",
    "<b>Привет!</b>\n",
    "\n",
    "Меня зовут Сороколетов Илья и я буду проверять твой проект. \n",
    "\n",
    "Предлагаю общаться на «**ты**», но если тебе будет комфортнее общаться на «**вы**», то сообщи об этом в комментариях)\n",
    "\n",
    "\n",
    "Для твоего удобства, я буду выделять свои комментарии следующим образом:\n",
    "\n",
    "<div class=\"alert alert-danger\">\n",
    "<b>❌ Комментарий ревьюера v1:</b> Самые важные замечания. Они указывают на ключевые моменты, которые влияют на конечный результат проекта. </div>\n",
    "\n",
    "<div class=\"alert alert-warning\">\n",
    "<b>⚠️ Комментарий ревьюера v1:</b> Советы или замечания, которые помогут сделать твою работу лучше, но необязательны к выполнению.\n",
    "\n",
    "</div>\n",
    "\n",
    "<div class=\"alert alert-success\">\n",
    "<b>✔️ Комментарий ревьюера v1:</b> Так я выделяю все остальные комментарии.</div>\n",
    "\n",
    "\n",
    "Пометками <b>v1-v2-v3-...</b> я буду отмечать версию проверки. Так ты сможешь быстро найти мои новые комментарии.\n",
    "\n",
    "Давай работать над проектом в диалоге: если ты что-то меняешь в проекте по моим рекомендациям — пиши об этом. Выбери для своих комментариев какой-то заметный цвет, так мне будет легче отследить изменения, например вот так:\n",
    "    \n",
    "<div class=\"alert alert-info\">\n",
    "<b>Комментарий студента:</b>\n",
    "<br>\n",
    "</div>\n",
    "\n",
    "<b>Пожалуйста, не перемещай, не изменяй и не удаляй мои комментарии.</b> Если ты оставляешь свои комментарии, то делай это под моими, чтобы сообщения были расположены в хронологическом порядке. Всё это поможет выполнить повторную проверку твоего проекта быстрее. \n",
    "\n",
    "Перед отправкой работы я рекомендую нажимать Kernel -> Restart & Run All. Это перезапустит ядро и по очереди выполнит все ячейки. Так ты сможешь проверить, что всё работает корректно. Кнопка Kernel находится в панели сверху\n",
    "\n",
    "Обязательно задавай вопросы если они возникнут, а я перехожу к проверке)\n",
    "\n",
    "P.S. На всякий случай, я оставлю пустой шаблон для твоих комментариев ниже. Кликни два раза на мой комментарий, скопируй последние четыре строчки кода и вставляй их в пустую ячейку там, где ты хочешь оставить комментарий. Не забудь только перед этим сменить тип ячейки на Markdown. Быстро это можно сделать так: кликнуть на ячейку - нажать ESC - нажать M. \n",
    "    \n",
    "    \n",
    "<div class=\"alert alert-info\">\n",
    "<b>Комментарий студента:</b>\n",
    "<br>Вывела всю таблицу, добаавлен краткий вывод после гистограмм, пропуски ceiling_height заполнены медианой, заменены типы данных с float64 на float32 для экономии памяти, отбросила меньше 10% данных, разделила задание 4.1-4.3, поправила выводы\n",
    "</div>"
   ]
  },
  {
   "cell_type": "markdown",
   "metadata": {
    "id": "w-sURs3567Ga"
   },
   "source": [
    "**Чек-лист готовности проекта**\n",
    "\n",
    "Поставьте 'x' в выполненных пунктах. Далее нажмите Shift+Enter."
   ]
  },
  {
   "cell_type": "markdown",
   "metadata": {
    "id": "13dX513X694N"
   },
   "source": [
    "- [x]  открыт файл\n",
    "- [x]  файлы изучены (выведены первые строки, метод `info()`, гистограммы и т.д.)\n",
    "- [x]  определены пропущенные значения\n",
    "- [x]  заполнены пропущенные значения там, где это возможно\n",
    "- [x]  есть пояснение, какие пропущенные значения обнаружены\n",
    "- [x]  изменены типы данных\n",
    "- [x]  есть пояснение, в каких столбцах изменены типы и почему\n",
    "- [x]  устранены неявные дубликаты в названиях населённых пунктов\n",
    "- [x]  устранены редкие и выбивающиеся значения (аномалии) во всех столбцах\n",
    "- [x]  посчитано и добавлено в таблицу: цена одного квадратного метра\n",
    "- [x]  посчитано и добавлено в таблицу: день публикации объявления (0 - понедельник, 1 - вторник и т.д.)\n",
    "- [x]  посчитано и добавлено в таблицу: месяц публикации объявления\n",
    "- [x]  посчитано и добавлено в таблицу: год публикации объявления\n",
    "- [x]  посчитано и добавлено в таблицу: тип этажа квартиры (значения — «первый», «последний», «другой»)\n",
    "- [x]  посчитано и добавлено в таблицу: расстояние в км до центра города\n",
    "- [x]  изучены и описаны следующие параметры:\n",
    "        - общая площадь;\n",
    "        - жилая площадь;\n",
    "        - площадь кухни;\n",
    "        - цена объекта;\n",
    "        - количество комнат;\n",
    "        - высота потолков;\n",
    "        - этаж квартиры;\n",
    "        - тип этажа квартиры («первый», «последний», «другой»);\n",
    "        - общее количество этажей в доме;\n",
    "        - расстояние до центра города в метрах;\n",
    "        - расстояние до ближайшего аэропорта;\n",
    "        - расстояние до ближайшего парка;\n",
    "        - день и месяц публикации объявления\n",
    "- [x]  построены гистограммы для каждого параметра\n",
    "- [x]  выполнено задание: \"Изучите, как быстро продавались квартиры (столбец days_exposition). Этот параметр показывает, сколько дней «висело» каждое объявление.\n",
    "    - Постройте гистограмму.\n",
    "    - Посчитайте среднее и медиану.\n",
    "    - В ячейке типа markdown опишите, сколько обычно занимает продажа. Какие продажи можно считать быстрыми, а какие — необычно долгими?\"\n",
    "- [x]  выполнено задание: \"Какие факторы больше всего влияют на общую (полную) стоимость объекта? Постройте графики, которые покажут зависимость цены от указанных ниже параметров. Для подготовки данных перед визуализацией вы можете использовать сводные таблицы.\"\n",
    "        - общей площади;\n",
    "        - жилой площади;\n",
    "        - площади кухни;\n",
    "        - количество комнат;\n",
    "        - типа этажа, на котором расположена квартира (первый, последний, другой);\n",
    "        - даты размещения (день недели, месяц, год);\n",
    "- [x]  выполнено задание: \"Посчитайте среднюю цену одного квадратного метра в 10 населённых пунктах с наибольшим числом объявлений. Выделите населённые пункты с самой высокой и низкой стоимостью квадратного метра. Эти данные можно найти по имени в столбце `locality_name`.\"\n",
    "- [x]  выполнено задание: \"Ранее вы посчитали расстояние до центра в километрах. Теперь выделите квартиры в Санкт-Петербурге с помощью столбца `locality_name` и вычислите среднюю цену каждого километра. Опишите, как стоимость объектов зависит от расстояния до центра города.\"\n",
    "- [x]  в каждом этапе есть промежуточные выводы\n",
    "- [x]  есть общий вывод"
   ]
  },
  {
   "cell_type": "markdown",
   "metadata": {
    "id": "XkWuWj_qvnS0"
   },
   "source": [
    "# Исследование объявлений о продаже квартир\n",
    "\n",
    "В вашем распоряжении данные сервиса Яндекс.Недвижимость — архив объявлений о продаже квартир в Санкт-Петербурге и соседних населённых пунктов за несколько лет. Нужно научиться определять рыночную стоимость объектов недвижимости. Ваша задача — установить параметры. Это позволит построить автоматизированную систему: она отследит аномалии и мошенническую деятельность. \n",
    "\n",
    "По каждой квартире на продажу доступны два вида данных. Первые вписаны пользователем, вторые — получены автоматически на основе картографических данных. Например, расстояние до центра, аэропорта, ближайшего парка и водоёма. "
   ]
  },
  {
   "cell_type": "markdown",
   "metadata": {
    "id": "1hqnkHdyvqti"
   },
   "source": [
    "# Задача\n",
    "Выполнить предобработку данных и изучить их, чтобы найти интересные особенности и зависимости, которые существуют на рынке недвижимости."
   ]
  },
  {
   "cell_type": "markdown",
   "metadata": {
    "id": "PGStlcgdvuVK"
   },
   "source": [
    "#Описание данных"
   ]
  },
  {
   "cell_type": "markdown",
   "metadata": {
    "id": "lYWKyswavxFX"
   },
   "source": [
    "airports_nearest — расстояние до ближайшего аэропорта в метрах (м)\n",
    "\n",
    "balcony — число балконов\n",
    "\n",
    "ceiling_height — высота потолков (м)\n",
    "\n",
    "cityCenters_nearest — расстояние до центра города (м)\n",
    "\n",
    "days_exposition — сколько дней было размещено объявление (от публикации до снятия)\n",
    "\n",
    "first_day_exposition — дата публикации\n",
    "\n",
    "floor — этаж\n",
    "\n",
    "floors_total — всего этажей в доме\n",
    "\n",
    "is_apartment — апартаменты (булев тип)\n",
    "\n",
    "kitchen_area — площадь кухни в квадратных метрах (м²)\n",
    "\n",
    "last_price — цена на момент снятия с публикации\n",
    "\n",
    "living_area — жилая площадь в квадратных метрах (м²)\n",
    "\n",
    "locality_name — название населённого пункта\n",
    "\n",
    "open_plan — свободная планировка (булев тип)\n",
    "\n",
    "parks_around3000 — число парков в радиусе 3 км\n",
    "\n",
    "parks_nearest — расстояние до ближайшего парка (м)\n",
    "\n",
    "ponds_around3000 — число водоёмов в радиусе 3 км\n",
    "\n",
    "ponds_nearest — расстояние до ближайшего водоёма (м)\n",
    "\n",
    "rooms — число комнат\n",
    "\n",
    "studio — квартира-студия (булев тип)\n",
    "\n",
    "total_area — общая площадь квартиры в квадратных метрах (м²)\n",
    "\n",
    "total_images — число фотографий квартиры в объявлении"
   ]
  },
  {
   "cell_type": "markdown",
   "metadata": {
    "id": "V7mNc9CYv4Cb"
   },
   "source": [
    "# План работы\n",
    "1. Выгрузка данных\n",
    "2. Предобработка данных\n",
    "3. Добавление в данные необходимые для анализа параметры\n",
    "4. Исследовательский анализ данных\n",
    "5. Вывод"
   ]
  },
  {
   "cell_type": "markdown",
   "metadata": {
    "id": "IZutnWOsv412"
   },
   "source": [
    "### 1. Откройте файл с данными и изучите общую информацию. "
   ]
  },
  {
   "cell_type": "code",
   "execution_count": 1,
   "metadata": {
    "id": "kwAyx108vZVB"
   },
   "outputs": [],
   "source": [
    "import pandas as pd\n",
    "import matplotlib.pyplot as plt\n",
    "import numpy as np\n",
    "import warnings\n",
    "warnings.simplefilter(\"ignore\")\n",
    "from copy import copy\n",
    "import seaborn as sns\n",
    "pd.set_option('display.max_columns', None)"
   ]
  },
  {
   "cell_type": "code",
   "execution_count": 2,
   "metadata": {
    "id": "1pxYZru0v-oy"
   },
   "outputs": [],
   "source": [
    "try:\n",
    "  data = pd.read_csv('real_estate_data.csv', sep='\\t')\n",
    "except:\n",
    "  data = pd.read_csv('https://code.s3.yandex.net/datasets/real_estate_data.csv', sep='\\t')"
   ]
  },
  {
   "cell_type": "code",
   "execution_count": 3,
   "metadata": {
    "colab": {
     "base_uri": "https://localhost:8080/"
    },
    "id": "wCRRUHZBxxXl",
    "outputId": "ab920667-92e2-475d-9b1d-423a21b5f087"
   },
   "outputs": [
    {
     "name": "stdout",
     "output_type": "stream",
     "text": [
      "<class 'pandas.core.frame.DataFrame'>\n",
      "RangeIndex: 23699 entries, 0 to 23698\n",
      "Data columns (total 22 columns):\n",
      " #   Column                Non-Null Count  Dtype  \n",
      "---  ------                --------------  -----  \n",
      " 0   total_images          23699 non-null  int64  \n",
      " 1   last_price            23699 non-null  float64\n",
      " 2   total_area            23699 non-null  float64\n",
      " 3   first_day_exposition  23699 non-null  object \n",
      " 4   rooms                 23699 non-null  int64  \n",
      " 5   ceiling_height        14504 non-null  float64\n",
      " 6   floors_total          23613 non-null  float64\n",
      " 7   living_area           21796 non-null  float64\n",
      " 8   floor                 23699 non-null  int64  \n",
      " 9   is_apartment          2775 non-null   object \n",
      " 10  studio                23699 non-null  bool   \n",
      " 11  open_plan             23699 non-null  bool   \n",
      " 12  kitchen_area          21421 non-null  float64\n",
      " 13  balcony               12180 non-null  float64\n",
      " 14  locality_name         23650 non-null  object \n",
      " 15  airports_nearest      18157 non-null  float64\n",
      " 16  cityCenters_nearest   18180 non-null  float64\n",
      " 17  parks_around3000      18181 non-null  float64\n",
      " 18  parks_nearest         8079 non-null   float64\n",
      " 19  ponds_around3000      18181 non-null  float64\n",
      " 20  ponds_nearest         9110 non-null   float64\n",
      " 21  days_exposition       20518 non-null  float64\n",
      "dtypes: bool(2), float64(14), int64(3), object(3)\n",
      "memory usage: 3.7+ MB\n"
     ]
    }
   ],
   "source": [
    "data.info()"
   ]
  },
  {
   "cell_type": "code",
   "execution_count": 4,
   "metadata": {
    "colab": {
     "base_uri": "https://localhost:8080/",
     "height": 365
    },
    "id": "fKrqK4oexzrd",
    "outputId": "7548cdac-1989-411b-c4dc-5bfd6f365807"
   },
   "outputs": [
    {
     "data": {
      "text/html": [
       "<div>\n",
       "<style scoped>\n",
       "    .dataframe tbody tr th:only-of-type {\n",
       "        vertical-align: middle;\n",
       "    }\n",
       "\n",
       "    .dataframe tbody tr th {\n",
       "        vertical-align: top;\n",
       "    }\n",
       "\n",
       "    .dataframe thead th {\n",
       "        text-align: right;\n",
       "    }\n",
       "</style>\n",
       "<table border=\"1\" class=\"dataframe\">\n",
       "  <thead>\n",
       "    <tr style=\"text-align: right;\">\n",
       "      <th></th>\n",
       "      <th>total_images</th>\n",
       "      <th>last_price</th>\n",
       "      <th>total_area</th>\n",
       "      <th>rooms</th>\n",
       "      <th>ceiling_height</th>\n",
       "      <th>floors_total</th>\n",
       "      <th>living_area</th>\n",
       "      <th>floor</th>\n",
       "      <th>kitchen_area</th>\n",
       "      <th>balcony</th>\n",
       "      <th>airports_nearest</th>\n",
       "      <th>cityCenters_nearest</th>\n",
       "      <th>parks_around3000</th>\n",
       "      <th>parks_nearest</th>\n",
       "      <th>ponds_around3000</th>\n",
       "      <th>ponds_nearest</th>\n",
       "      <th>days_exposition</th>\n",
       "    </tr>\n",
       "  </thead>\n",
       "  <tbody>\n",
       "    <tr>\n",
       "      <th>count</th>\n",
       "      <td>23699.000000</td>\n",
       "      <td>2.369900e+04</td>\n",
       "      <td>23699.000000</td>\n",
       "      <td>23699.000000</td>\n",
       "      <td>14504.000000</td>\n",
       "      <td>23613.000000</td>\n",
       "      <td>21796.000000</td>\n",
       "      <td>23699.000000</td>\n",
       "      <td>21421.000000</td>\n",
       "      <td>12180.000000</td>\n",
       "      <td>18157.000000</td>\n",
       "      <td>18180.000000</td>\n",
       "      <td>18181.000000</td>\n",
       "      <td>8079.000000</td>\n",
       "      <td>18181.000000</td>\n",
       "      <td>9110.000000</td>\n",
       "      <td>20518.000000</td>\n",
       "    </tr>\n",
       "    <tr>\n",
       "      <th>mean</th>\n",
       "      <td>9.858475</td>\n",
       "      <td>6.541549e+06</td>\n",
       "      <td>60.348651</td>\n",
       "      <td>2.070636</td>\n",
       "      <td>2.771499</td>\n",
       "      <td>10.673824</td>\n",
       "      <td>34.457852</td>\n",
       "      <td>5.892358</td>\n",
       "      <td>10.569807</td>\n",
       "      <td>1.150082</td>\n",
       "      <td>28793.672193</td>\n",
       "      <td>14191.277833</td>\n",
       "      <td>0.611408</td>\n",
       "      <td>490.804555</td>\n",
       "      <td>0.770255</td>\n",
       "      <td>517.980900</td>\n",
       "      <td>180.888634</td>\n",
       "    </tr>\n",
       "    <tr>\n",
       "      <th>std</th>\n",
       "      <td>5.682529</td>\n",
       "      <td>1.088701e+07</td>\n",
       "      <td>35.654083</td>\n",
       "      <td>1.078405</td>\n",
       "      <td>1.261056</td>\n",
       "      <td>6.597173</td>\n",
       "      <td>22.030445</td>\n",
       "      <td>4.885249</td>\n",
       "      <td>5.905438</td>\n",
       "      <td>1.071300</td>\n",
       "      <td>12630.880622</td>\n",
       "      <td>8608.386210</td>\n",
       "      <td>0.802074</td>\n",
       "      <td>342.317995</td>\n",
       "      <td>0.938346</td>\n",
       "      <td>277.720643</td>\n",
       "      <td>219.727988</td>\n",
       "    </tr>\n",
       "    <tr>\n",
       "      <th>min</th>\n",
       "      <td>0.000000</td>\n",
       "      <td>1.219000e+04</td>\n",
       "      <td>12.000000</td>\n",
       "      <td>0.000000</td>\n",
       "      <td>1.000000</td>\n",
       "      <td>1.000000</td>\n",
       "      <td>2.000000</td>\n",
       "      <td>1.000000</td>\n",
       "      <td>1.300000</td>\n",
       "      <td>0.000000</td>\n",
       "      <td>0.000000</td>\n",
       "      <td>181.000000</td>\n",
       "      <td>0.000000</td>\n",
       "      <td>1.000000</td>\n",
       "      <td>0.000000</td>\n",
       "      <td>13.000000</td>\n",
       "      <td>1.000000</td>\n",
       "    </tr>\n",
       "    <tr>\n",
       "      <th>25%</th>\n",
       "      <td>6.000000</td>\n",
       "      <td>3.400000e+06</td>\n",
       "      <td>40.000000</td>\n",
       "      <td>1.000000</td>\n",
       "      <td>2.520000</td>\n",
       "      <td>5.000000</td>\n",
       "      <td>18.600000</td>\n",
       "      <td>2.000000</td>\n",
       "      <td>7.000000</td>\n",
       "      <td>0.000000</td>\n",
       "      <td>18585.000000</td>\n",
       "      <td>9238.000000</td>\n",
       "      <td>0.000000</td>\n",
       "      <td>288.000000</td>\n",
       "      <td>0.000000</td>\n",
       "      <td>294.000000</td>\n",
       "      <td>45.000000</td>\n",
       "    </tr>\n",
       "    <tr>\n",
       "      <th>50%</th>\n",
       "      <td>9.000000</td>\n",
       "      <td>4.650000e+06</td>\n",
       "      <td>52.000000</td>\n",
       "      <td>2.000000</td>\n",
       "      <td>2.650000</td>\n",
       "      <td>9.000000</td>\n",
       "      <td>30.000000</td>\n",
       "      <td>4.000000</td>\n",
       "      <td>9.100000</td>\n",
       "      <td>1.000000</td>\n",
       "      <td>26726.000000</td>\n",
       "      <td>13098.500000</td>\n",
       "      <td>0.000000</td>\n",
       "      <td>455.000000</td>\n",
       "      <td>1.000000</td>\n",
       "      <td>502.000000</td>\n",
       "      <td>95.000000</td>\n",
       "    </tr>\n",
       "    <tr>\n",
       "      <th>75%</th>\n",
       "      <td>14.000000</td>\n",
       "      <td>6.800000e+06</td>\n",
       "      <td>69.900000</td>\n",
       "      <td>3.000000</td>\n",
       "      <td>2.800000</td>\n",
       "      <td>16.000000</td>\n",
       "      <td>42.300000</td>\n",
       "      <td>8.000000</td>\n",
       "      <td>12.000000</td>\n",
       "      <td>2.000000</td>\n",
       "      <td>37273.000000</td>\n",
       "      <td>16293.000000</td>\n",
       "      <td>1.000000</td>\n",
       "      <td>612.000000</td>\n",
       "      <td>1.000000</td>\n",
       "      <td>729.000000</td>\n",
       "      <td>232.000000</td>\n",
       "    </tr>\n",
       "    <tr>\n",
       "      <th>max</th>\n",
       "      <td>50.000000</td>\n",
       "      <td>7.630000e+08</td>\n",
       "      <td>900.000000</td>\n",
       "      <td>19.000000</td>\n",
       "      <td>100.000000</td>\n",
       "      <td>60.000000</td>\n",
       "      <td>409.700000</td>\n",
       "      <td>33.000000</td>\n",
       "      <td>112.000000</td>\n",
       "      <td>5.000000</td>\n",
       "      <td>84869.000000</td>\n",
       "      <td>65968.000000</td>\n",
       "      <td>3.000000</td>\n",
       "      <td>3190.000000</td>\n",
       "      <td>3.000000</td>\n",
       "      <td>1344.000000</td>\n",
       "      <td>1580.000000</td>\n",
       "    </tr>\n",
       "  </tbody>\n",
       "</table>\n",
       "</div>"
      ],
      "text/plain": [
       "       total_images    last_price    total_area         rooms  ceiling_height  \\\n",
       "count  23699.000000  2.369900e+04  23699.000000  23699.000000    14504.000000   \n",
       "mean       9.858475  6.541549e+06     60.348651      2.070636        2.771499   \n",
       "std        5.682529  1.088701e+07     35.654083      1.078405        1.261056   \n",
       "min        0.000000  1.219000e+04     12.000000      0.000000        1.000000   \n",
       "25%        6.000000  3.400000e+06     40.000000      1.000000        2.520000   \n",
       "50%        9.000000  4.650000e+06     52.000000      2.000000        2.650000   \n",
       "75%       14.000000  6.800000e+06     69.900000      3.000000        2.800000   \n",
       "max       50.000000  7.630000e+08    900.000000     19.000000      100.000000   \n",
       "\n",
       "       floors_total   living_area         floor  kitchen_area       balcony  \\\n",
       "count  23613.000000  21796.000000  23699.000000  21421.000000  12180.000000   \n",
       "mean      10.673824     34.457852      5.892358     10.569807      1.150082   \n",
       "std        6.597173     22.030445      4.885249      5.905438      1.071300   \n",
       "min        1.000000      2.000000      1.000000      1.300000      0.000000   \n",
       "25%        5.000000     18.600000      2.000000      7.000000      0.000000   \n",
       "50%        9.000000     30.000000      4.000000      9.100000      1.000000   \n",
       "75%       16.000000     42.300000      8.000000     12.000000      2.000000   \n",
       "max       60.000000    409.700000     33.000000    112.000000      5.000000   \n",
       "\n",
       "       airports_nearest  cityCenters_nearest  parks_around3000  parks_nearest  \\\n",
       "count      18157.000000         18180.000000      18181.000000    8079.000000   \n",
       "mean       28793.672193         14191.277833          0.611408     490.804555   \n",
       "std        12630.880622          8608.386210          0.802074     342.317995   \n",
       "min            0.000000           181.000000          0.000000       1.000000   \n",
       "25%        18585.000000          9238.000000          0.000000     288.000000   \n",
       "50%        26726.000000         13098.500000          0.000000     455.000000   \n",
       "75%        37273.000000         16293.000000          1.000000     612.000000   \n",
       "max        84869.000000         65968.000000          3.000000    3190.000000   \n",
       "\n",
       "       ponds_around3000  ponds_nearest  days_exposition  \n",
       "count      18181.000000    9110.000000     20518.000000  \n",
       "mean           0.770255     517.980900       180.888634  \n",
       "std            0.938346     277.720643       219.727988  \n",
       "min            0.000000      13.000000         1.000000  \n",
       "25%            0.000000     294.000000        45.000000  \n",
       "50%            1.000000     502.000000        95.000000  \n",
       "75%            1.000000     729.000000       232.000000  \n",
       "max            3.000000    1344.000000      1580.000000  "
      ]
     },
     "execution_count": 4,
     "metadata": {},
     "output_type": "execute_result"
    }
   ],
   "source": [
    "data.describe()"
   ]
  },
  {
   "cell_type": "code",
   "execution_count": 5,
   "metadata": {
    "colab": {
     "base_uri": "https://localhost:8080/",
     "height": 387
    },
    "id": "Z3TpKd5Yx114",
    "outputId": "73eee0db-d610-41b9-b0e9-496668b2dcb0"
   },
   "outputs": [
    {
     "data": {
      "text/html": [
       "<div>\n",
       "<style scoped>\n",
       "    .dataframe tbody tr th:only-of-type {\n",
       "        vertical-align: middle;\n",
       "    }\n",
       "\n",
       "    .dataframe tbody tr th {\n",
       "        vertical-align: top;\n",
       "    }\n",
       "\n",
       "    .dataframe thead th {\n",
       "        text-align: right;\n",
       "    }\n",
       "</style>\n",
       "<table border=\"1\" class=\"dataframe\">\n",
       "  <thead>\n",
       "    <tr style=\"text-align: right;\">\n",
       "      <th></th>\n",
       "      <th>total_images</th>\n",
       "      <th>last_price</th>\n",
       "      <th>total_area</th>\n",
       "      <th>first_day_exposition</th>\n",
       "      <th>rooms</th>\n",
       "      <th>ceiling_height</th>\n",
       "      <th>floors_total</th>\n",
       "      <th>living_area</th>\n",
       "      <th>floor</th>\n",
       "      <th>is_apartment</th>\n",
       "      <th>...</th>\n",
       "      <th>kitchen_area</th>\n",
       "      <th>balcony</th>\n",
       "      <th>locality_name</th>\n",
       "      <th>airports_nearest</th>\n",
       "      <th>cityCenters_nearest</th>\n",
       "      <th>parks_around3000</th>\n",
       "      <th>parks_nearest</th>\n",
       "      <th>ponds_around3000</th>\n",
       "      <th>ponds_nearest</th>\n",
       "      <th>days_exposition</th>\n",
       "    </tr>\n",
       "  </thead>\n",
       "  <tbody>\n",
       "    <tr>\n",
       "      <th>0</th>\n",
       "      <td>20</td>\n",
       "      <td>13000000.0</td>\n",
       "      <td>108.0</td>\n",
       "      <td>2019-03-07T00:00:00</td>\n",
       "      <td>3</td>\n",
       "      <td>2.70</td>\n",
       "      <td>16.0</td>\n",
       "      <td>51.0</td>\n",
       "      <td>8</td>\n",
       "      <td>NaN</td>\n",
       "      <td>...</td>\n",
       "      <td>25.0</td>\n",
       "      <td>NaN</td>\n",
       "      <td>Санкт-Петербург</td>\n",
       "      <td>18863.0</td>\n",
       "      <td>16028.0</td>\n",
       "      <td>1.0</td>\n",
       "      <td>482.0</td>\n",
       "      <td>2.0</td>\n",
       "      <td>755.0</td>\n",
       "      <td>NaN</td>\n",
       "    </tr>\n",
       "    <tr>\n",
       "      <th>1</th>\n",
       "      <td>7</td>\n",
       "      <td>3350000.0</td>\n",
       "      <td>40.4</td>\n",
       "      <td>2018-12-04T00:00:00</td>\n",
       "      <td>1</td>\n",
       "      <td>NaN</td>\n",
       "      <td>11.0</td>\n",
       "      <td>18.6</td>\n",
       "      <td>1</td>\n",
       "      <td>NaN</td>\n",
       "      <td>...</td>\n",
       "      <td>11.0</td>\n",
       "      <td>2.0</td>\n",
       "      <td>посёлок Шушары</td>\n",
       "      <td>12817.0</td>\n",
       "      <td>18603.0</td>\n",
       "      <td>0.0</td>\n",
       "      <td>NaN</td>\n",
       "      <td>0.0</td>\n",
       "      <td>NaN</td>\n",
       "      <td>81.0</td>\n",
       "    </tr>\n",
       "    <tr>\n",
       "      <th>2</th>\n",
       "      <td>10</td>\n",
       "      <td>5196000.0</td>\n",
       "      <td>56.0</td>\n",
       "      <td>2015-08-20T00:00:00</td>\n",
       "      <td>2</td>\n",
       "      <td>NaN</td>\n",
       "      <td>5.0</td>\n",
       "      <td>34.3</td>\n",
       "      <td>4</td>\n",
       "      <td>NaN</td>\n",
       "      <td>...</td>\n",
       "      <td>8.3</td>\n",
       "      <td>0.0</td>\n",
       "      <td>Санкт-Петербург</td>\n",
       "      <td>21741.0</td>\n",
       "      <td>13933.0</td>\n",
       "      <td>1.0</td>\n",
       "      <td>90.0</td>\n",
       "      <td>2.0</td>\n",
       "      <td>574.0</td>\n",
       "      <td>558.0</td>\n",
       "    </tr>\n",
       "    <tr>\n",
       "      <th>3</th>\n",
       "      <td>0</td>\n",
       "      <td>64900000.0</td>\n",
       "      <td>159.0</td>\n",
       "      <td>2015-07-24T00:00:00</td>\n",
       "      <td>3</td>\n",
       "      <td>NaN</td>\n",
       "      <td>14.0</td>\n",
       "      <td>NaN</td>\n",
       "      <td>9</td>\n",
       "      <td>NaN</td>\n",
       "      <td>...</td>\n",
       "      <td>NaN</td>\n",
       "      <td>0.0</td>\n",
       "      <td>Санкт-Петербург</td>\n",
       "      <td>28098.0</td>\n",
       "      <td>6800.0</td>\n",
       "      <td>2.0</td>\n",
       "      <td>84.0</td>\n",
       "      <td>3.0</td>\n",
       "      <td>234.0</td>\n",
       "      <td>424.0</td>\n",
       "    </tr>\n",
       "    <tr>\n",
       "      <th>4</th>\n",
       "      <td>2</td>\n",
       "      <td>10000000.0</td>\n",
       "      <td>100.0</td>\n",
       "      <td>2018-06-19T00:00:00</td>\n",
       "      <td>2</td>\n",
       "      <td>3.03</td>\n",
       "      <td>14.0</td>\n",
       "      <td>32.0</td>\n",
       "      <td>13</td>\n",
       "      <td>NaN</td>\n",
       "      <td>...</td>\n",
       "      <td>41.0</td>\n",
       "      <td>NaN</td>\n",
       "      <td>Санкт-Петербург</td>\n",
       "      <td>31856.0</td>\n",
       "      <td>8098.0</td>\n",
       "      <td>2.0</td>\n",
       "      <td>112.0</td>\n",
       "      <td>1.0</td>\n",
       "      <td>48.0</td>\n",
       "      <td>121.0</td>\n",
       "    </tr>\n",
       "  </tbody>\n",
       "</table>\n",
       "<p>5 rows × 22 columns</p>\n",
       "</div>"
      ],
      "text/plain": [
       "   total_images  last_price  total_area first_day_exposition  rooms  \\\n",
       "0            20  13000000.0       108.0  2019-03-07T00:00:00      3   \n",
       "1             7   3350000.0        40.4  2018-12-04T00:00:00      1   \n",
       "2            10   5196000.0        56.0  2015-08-20T00:00:00      2   \n",
       "3             0  64900000.0       159.0  2015-07-24T00:00:00      3   \n",
       "4             2  10000000.0       100.0  2018-06-19T00:00:00      2   \n",
       "\n",
       "   ceiling_height  floors_total  living_area  floor is_apartment  ...  \\\n",
       "0            2.70          16.0         51.0      8          NaN  ...   \n",
       "1             NaN          11.0         18.6      1          NaN  ...   \n",
       "2             NaN           5.0         34.3      4          NaN  ...   \n",
       "3             NaN          14.0          NaN      9          NaN  ...   \n",
       "4            3.03          14.0         32.0     13          NaN  ...   \n",
       "\n",
       "   kitchen_area  balcony    locality_name  airports_nearest  \\\n",
       "0          25.0      NaN  Санкт-Петербург           18863.0   \n",
       "1          11.0      2.0   посёлок Шушары           12817.0   \n",
       "2           8.3      0.0  Санкт-Петербург           21741.0   \n",
       "3           NaN      0.0  Санкт-Петербург           28098.0   \n",
       "4          41.0      NaN  Санкт-Петербург           31856.0   \n",
       "\n",
       "  cityCenters_nearest  parks_around3000  parks_nearest  ponds_around3000  \\\n",
       "0             16028.0               1.0          482.0               2.0   \n",
       "1             18603.0               0.0            NaN               0.0   \n",
       "2             13933.0               1.0           90.0               2.0   \n",
       "3              6800.0               2.0           84.0               3.0   \n",
       "4              8098.0               2.0          112.0               1.0   \n",
       "\n",
       "   ponds_nearest  days_exposition  \n",
       "0          755.0              NaN  \n",
       "1            NaN             81.0  \n",
       "2          574.0            558.0  \n",
       "3          234.0            424.0  \n",
       "4           48.0            121.0  \n",
       "\n",
       "[5 rows x 22 columns]"
      ]
     },
     "execution_count": 5,
     "metadata": {},
     "output_type": "execute_result"
    }
   ],
   "source": [
    "data.head()"
   ]
  },
  {
   "cell_type": "markdown",
   "metadata": {
    "id": "QOTVAkkjx7gm"
   },
   "source": [
    "<div class=\"alert alert-danger\">\n",
    "<b>❌ Комментарий ревьюера v1:</b> \n",
    "<br>В этом разделе также важно вывести всю таблицу, чтобы посмотреть как выглядят данные\n",
    "</div>"
   ]
  },
  {
   "cell_type": "markdown",
   "metadata": {},
   "source": [
    "<div class=\"alert alert-warning\">\n",
    "<b>⚠️ Комментарий ревьюера v2:</b> \n",
    "<br>Обрати внимание, что часть столбцов заменилась на \"...\". Чтобы это исправить, нужно увеличить максимальное количество отображающихся столбцов командой\n",
    "\n",
    "\tpd.set_option('display.max_columns', None)\n",
    "</div>"
   ]
  },
  {
   "cell_type": "markdown",
   "metadata": {
    "id": "ybEPA7yqx-zu"
   },
   "source": [
    "Из описания можно сделать вывод, что есть пропуски в данных."
   ]
  },
  {
   "cell_type": "code",
   "execution_count": 6,
   "metadata": {
    "colab": {
     "base_uri": "https://localhost:8080/",
     "height": 1000
    },
    "id": "uuUrE6fxx4rt",
    "outputId": "e9efc18c-be22-4145-ab48-af15d396fdaa"
   },
   "outputs": [
    {
     "data": {
      "image/png": "[encoded data removed]",
      "text/plain": [
       "<Figure size 1080x1440 with 20 Axes>"
      ]
     },
     "metadata": {
      "needs_background": "light"
     },
     "output_type": "display_data"
    }
   ],
   "source": [
    "data.hist(figsize=(15, 20));"
   ]
  },
  {
   "cell_type": "markdown",
   "metadata": {
    "id": "jeyUQAlCyEJU"
   },
   "source": [
    "<div class=\"alert alert-success\">\n",
    "<b>✔️ Комментарий ревьюера v1:</b> \n",
    "<br>Графики построено верно! \n",
    "</div>\n",
    "\t\t\n",
    "<div class=\"alert alert-warning\">\n",
    "<b>⚠️ Комментарий ревьюера v1:</b> \n",
    "<br>Если после кода вызывающего график добавить \";\", то мы избавимся от строчки над графиком)\n",
    "</div>"
   ]
  },
  {
   "cell_type": "markdown",
   "metadata": {
    "id": "0t05RlrtyErU"
   },
   "source": [
    "<div class=\"alert alert-danger\">\n",
    "<b>❌ Комментарий ревьюера v1:</b> \n",
    "<br>Здесь необходимо написать короткий вывод о проблемах с данными (пропуски, дубликаты, неверный тип данных, странные значения и т.д.)\n",
    "</div>"
   ]
  },
  {
   "cell_type": "markdown",
   "metadata": {
    "id": "v5g-WF9DyIYl"
   },
   "source": [
    "Как видно из гистограмм в столбце высоты потолков (ceiling_height) есть аномальные значения, расстояние до аэропорта содержит значение 0\n",
    "\n",
    "last_price, total_area, living_area, rooms, kitchen_area содержат выбросы, скорее всего в выборку попала очень большая квартира, которая влияет на общую картину"
   ]
  },
  {
   "cell_type": "markdown",
   "metadata": {},
   "source": [
    "<div class=\"alert alert-success\">\n",
    "<b>✔️ Комментарий ревьюера v2:</b>\n",
    "<br>Правка выполнена 👍\n",
    "</div>"
   ]
  },
  {
   "cell_type": "markdown",
   "metadata": {
    "id": "QTbqg7eQySKN"
   },
   "source": [
    "# 2. Предобработка данных"
   ]
  },
  {
   "cell_type": "code",
   "execution_count": 7,
   "metadata": {
    "id": "FfoQNKe4yBJF"
   },
   "outputs": [],
   "source": [
    "# Переименуем столбец cityCenters_nearest\n",
    "data.rename(columns={'cityCenters_nearest': 'city_centers_nearest'}, inplace=True)"
   ]
  },
  {
   "cell_type": "markdown",
   "metadata": {
    "id": "Ce9Da_rdylok"
   },
   "source": [
    "<div class=\"alert alert-success\">\n",
    "<b>✔️ Комментарий ревьюера v1:</b> \n",
    "<br>Молодец! Так датафрейм будет более аккуратным\n",
    "</div>"
   ]
  },
  {
   "cell_type": "markdown",
   "metadata": {
    "id": "dr0GQhOPytiF"
   },
   "source": [
    "### 2.1. Найдем столбцы с пропусками\n"
   ]
  },
  {
   "cell_type": "code",
   "execution_count": 8,
   "metadata": {
    "colab": {
     "base_uri": "https://localhost:8080/"
    },
    "id": "tRKxLAHZyiQn",
    "outputId": "57a1ca35-71d4-4e4e-c952-5affe6ea7006"
   },
   "outputs": [
    {
     "data": {
      "text/plain": [
       "total_images                0\n",
       "last_price                  0\n",
       "total_area                  0\n",
       "first_day_exposition        0\n",
       "rooms                       0\n",
       "ceiling_height           9195\n",
       "floors_total               86\n",
       "living_area              1903\n",
       "floor                       0\n",
       "is_apartment            20924\n",
       "studio                      0\n",
       "open_plan                   0\n",
       "kitchen_area             2278\n",
       "balcony                 11519\n",
       "locality_name              49\n",
       "airports_nearest         5542\n",
       "city_centers_nearest     5519\n",
       "parks_around3000         5518\n",
       "parks_nearest           15620\n",
       "ponds_around3000         5518\n",
       "ponds_nearest           14589\n",
       "days_exposition          3181\n",
       "dtype: int64"
      ]
     },
     "execution_count": 8,
     "metadata": {},
     "output_type": "execute_result"
    }
   ],
   "source": [
    "data.isna().sum()"
   ]
  },
  {
   "cell_type": "markdown",
   "metadata": {
    "id": "EEpBBXyVy33T"
   },
   "source": [
    "Значения в некоторых столбцах могли не заполнять, потому что этот параметр отсутсвует, например если в радиусе 3 км нет ни водоемов, ни парков, то можно пропустить этот параметр при заполнении датафрейма, такая же ситуация с количеством балконов и апартаментов. Высоту потолков можно заполнить медианным значением.\n",
    "\n",
    "В остальных столбцах данные могут отсутствовать по другим причинам, ошибке при записи, человеческий фактор (забыли указать) или отсутствие информации о параметре"
   ]
  },
  {
   "cell_type": "code",
   "execution_count": 9,
   "metadata": {
    "colab": {
     "base_uri": "https://localhost:8080/"
    },
    "id": "p2hyeZyoy1v4",
    "outputId": "aa677705-c612-4fd2-8ddd-96e798976a4e"
   },
   "outputs": [
    {
     "data": {
      "text/plain": [
       "2.65"
      ]
     },
     "execution_count": 9,
     "metadata": {},
     "output_type": "execute_result"
    }
   ],
   "source": [
    "data['ceiling_height'].median()"
   ]
  },
  {
   "cell_type": "code",
   "execution_count": 10,
   "metadata": {
    "id": "cODtJwbVy6cB"
   },
   "outputs": [],
   "source": [
    "data[['balcony', 'ponds_around3000', 'is_apartment', 'parks_around3000']] = (data[['balcony', 'ponds_around3000', 'is_apartment', 'parks_around3000']]\n",
    "                                                                             .fillna(value=0))\n",
    "data['ceiling_height'].fillna(data['ceiling_height'].median(), inplace=True)"
   ]
  },
  {
   "cell_type": "code",
   "execution_count": 11,
   "metadata": {
    "colab": {
     "base_uri": "https://localhost:8080/"
    },
    "id": "E6mEwVA-y9vy",
    "outputId": "b04c9c27-39e9-4913-c892-6809609562e5"
   },
   "outputs": [
    {
     "data": {
      "text/plain": [
       "total_images                0\n",
       "last_price                  0\n",
       "total_area                  0\n",
       "first_day_exposition        0\n",
       "rooms                       0\n",
       "ceiling_height              0\n",
       "floors_total               86\n",
       "living_area              1903\n",
       "floor                       0\n",
       "is_apartment                0\n",
       "studio                      0\n",
       "open_plan                   0\n",
       "kitchen_area             2278\n",
       "balcony                     0\n",
       "locality_name              49\n",
       "airports_nearest         5542\n",
       "city_centers_nearest     5519\n",
       "parks_around3000            0\n",
       "parks_nearest           15620\n",
       "ponds_around3000            0\n",
       "ponds_nearest           14589\n",
       "days_exposition          3181\n",
       "dtype: int64"
      ]
     },
     "execution_count": 11,
     "metadata": {},
     "output_type": "execute_result"
    }
   ],
   "source": [
    "data.isna().sum()"
   ]
  },
  {
   "cell_type": "markdown",
   "metadata": {
    "id": "4VHu-7ATzEWZ"
   },
   "source": [
    "<div class=\"alert alert-danger\">\n",
    "<b>❌ Комментарий ревьюера v1:</b> \n",
    "<br>Давай ещё заполним пропуски в столбце с высотой потолков, тем более мы можем достаточно точно их восстановить так как основная часть данных в этом столбце находится в небольшом диапазоне.\n",
    "</div>"
   ]
  },
  {
   "cell_type": "markdown",
   "metadata": {},
   "source": [
    "<div class=\"alert alert-success\">\n",
    "<b>✔️ Комментарий ревьюера v2:</b>\n",
    "<br>Правка выполнена 👍\n",
    "</div>"
   ]
  },
  {
   "cell_type": "markdown",
   "metadata": {
    "id": "NmqxlRDwzH1R"
   },
   "source": [
    "### 2.2. Преобразование типов данных\n",
    "\n",
    "Посмотрим есть ли типы данных, которые нужно преобразовать"
   ]
  },
  {
   "cell_type": "code",
   "execution_count": 12,
   "metadata": {
    "colab": {
     "base_uri": "https://localhost:8080/"
    },
    "id": "GZcnrR6_y_pz",
    "outputId": "6ff7dc7b-0acb-494d-eb54-7ffd669a77b1"
   },
   "outputs": [
    {
     "name": "stdout",
     "output_type": "stream",
     "text": [
      "<class 'pandas.core.frame.DataFrame'>\n",
      "RangeIndex: 23699 entries, 0 to 23698\n",
      "Data columns (total 22 columns):\n",
      " #   Column                Non-Null Count  Dtype  \n",
      "---  ------                --------------  -----  \n",
      " 0   total_images          23699 non-null  int64  \n",
      " 1   last_price            23699 non-null  float64\n",
      " 2   total_area            23699 non-null  float64\n",
      " 3   first_day_exposition  23699 non-null  object \n",
      " 4   rooms                 23699 non-null  int64  \n",
      " 5   ceiling_height        23699 non-null  float64\n",
      " 6   floors_total          23613 non-null  float64\n",
      " 7   living_area           21796 non-null  float64\n",
      " 8   floor                 23699 non-null  int64  \n",
      " 9   is_apartment          23699 non-null  object \n",
      " 10  studio                23699 non-null  bool   \n",
      " 11  open_plan             23699 non-null  bool   \n",
      " 12  kitchen_area          21421 non-null  float64\n",
      " 13  balcony               23699 non-null  float64\n",
      " 14  locality_name         23650 non-null  object \n",
      " 15  airports_nearest      18157 non-null  float64\n",
      " 16  city_centers_nearest  18180 non-null  float64\n",
      " 17  parks_around3000      23699 non-null  float64\n",
      " 18  parks_nearest         8079 non-null   float64\n",
      " 19  ponds_around3000      23699 non-null  float64\n",
      " 20  ponds_nearest         9110 non-null   float64\n",
      " 21  days_exposition       20518 non-null  float64\n",
      "dtypes: bool(2), float64(14), int64(3), object(3)\n",
      "memory usage: 3.7+ MB\n"
     ]
    }
   ],
   "source": [
    "data.info()"
   ]
  },
  {
   "cell_type": "code",
   "execution_count": 13,
   "metadata": {
    "id": "lltMkbSEzX6j"
   },
   "outputs": [],
   "source": [
    "# Проверим представлена ли цена целыми числами\n",
    "for price in data.last_price.unique():\n",
    "  if not float(price).is_integer():\n",
    "    print(price)"
   ]
  },
  {
   "cell_type": "markdown",
   "metadata": {
    "id": "lIz-w2aXzb3L"
   },
   "source": [
    "Как видно из метода info() количество этажей в доме (floors_total), количество балконов (balcony), цена на момент снятия публикации (last_price) не содержат дробной части (она равна 0), что дает право изменить тип данных на целочисленный (int64), а является ли помещение апартаментами (is_apartment) должно быть булевым типом (bool). Изменим типы данных на подходящие\n",
    "\n",
    "Количество этажей или балконов не может быть дробным, а цена представлена в числах с нулевой дробной частью."
   ]
  },
  {
   "cell_type": "code",
   "execution_count": 14,
   "metadata": {
    "id": "ccvQB3bGzaOT"
   },
   "outputs": [],
   "source": [
    "float64_cols = list(data.select_dtypes(include='float64'))\n",
    "data[float64_cols] = data[float64_cols].astype('float32')"
   ]
  },
  {
   "cell_type": "code",
   "execution_count": 15,
   "metadata": {
    "id": "8znl_Uzwzeu4"
   },
   "outputs": [],
   "source": [
    "#floors_total -> int64  balcony -> int64   first_day_exposition-> datetime   days_exposition -> int64 last_price -> int64 is_apartment-> bool\n",
    "data = data.astype({'floors_total': 'int32', 'balcony': 'int32', 'days_exposition': 'int32', 'last_price': 'int32', 'is_apartment': 'bool'}, errors='ignore')\n",
    "data['first_day_exposition'] = pd.to_datetime(data['first_day_exposition'], format='%Y-%m-%dT%H:%M:%S')"
   ]
  },
  {
   "cell_type": "markdown",
   "metadata": {
    "id": "f5I8szv0ziSZ"
   },
   "source": [
    "<div class=\"alert alert-success\">\n",
    "<b>✔️ Комментарий ревьюера v1:</b> \n",
    "<br>Изменение типов данных проведено верно. Можно ещё заменить тип данных с float64 на float32 для экономии памяти.\n",
    "</div>"
   ]
  },
  {
   "cell_type": "markdown",
   "metadata": {
    "id": "P6SQb8HkznBX"
   },
   "source": [
    "### 2.3. Устранение неявных дубликатов\n",
    "\n",
    "В столбце locality_name есть неявные дубликаты, устраним их"
   ]
  },
  {
   "cell_type": "code",
   "execution_count": 16,
   "metadata": {
    "colab": {
     "base_uri": "https://localhost:8080/"
    },
    "id": "-U5YhGsEzgR7",
    "outputId": "0159ca08-41fc-4f20-de16-3984aa104053"
   },
   "outputs": [
    {
     "data": {
      "text/plain": [
       "array(['Санкт-Петербург', 'посёлок Шушары', 'городской посёлок Янино-1',\n",
       "       'посёлок Парголово', 'посёлок Мурино', 'Ломоносов', 'Сертолово',\n",
       "       'Петергоф', 'Пушкин', 'деревня Кудрово', 'Коммунар', 'Колпино',\n",
       "       'поселок городского типа Красный Бор', 'Гатчина', 'поселок Мурино',\n",
       "       'деревня Фёдоровское', 'Выборг', 'Кронштадт', 'Кировск',\n",
       "       'деревня Новое Девяткино', 'посёлок Металлострой',\n",
       "       'посёлок городского типа Лебяжье',\n",
       "       'посёлок городского типа Сиверский', 'поселок Молодцово',\n",
       "       'поселок городского типа Кузьмоловский',\n",
       "       'садовое товарищество Новая Ропша', 'Павловск',\n",
       "       'деревня Пикколово', 'Всеволожск', 'Волхов', 'Кингисепп',\n",
       "       'Приозерск', 'Сестрорецк', 'деревня Куттузи', 'посёлок Аннино',\n",
       "       'поселок городского типа Ефимовский', 'посёлок Плодовое',\n",
       "       'деревня Заклинье', 'поселок Торковичи', 'поселок Первомайское',\n",
       "       'Красное Село', 'посёлок Понтонный', 'Сясьстрой', 'деревня Старая',\n",
       "       'деревня Лесколово', 'посёлок Новый Свет', 'Сланцы',\n",
       "       'село Путилово', 'Ивангород', 'Мурино', 'Шлиссельбург',\n",
       "       'Никольское', 'Зеленогорск', 'Сосновый Бор', 'поселок Новый Свет',\n",
       "       'деревня Оржицы', 'деревня Кальтино', 'Кудрово',\n",
       "       'поселок Романовка', 'посёлок Бугры', 'поселок Бугры',\n",
       "       'поселок городского типа Рощино', 'Кириши', 'Луга', 'Волосово',\n",
       "       'Отрадное', 'село Павлово', 'поселок Оредеж', 'село Копорье',\n",
       "       'посёлок городского типа Красный Бор', 'посёлок Молодёжное',\n",
       "       'Тихвин', 'посёлок Победа', 'деревня Нурма',\n",
       "       'поселок городского типа Синявино', 'Тосно',\n",
       "       'посёлок городского типа Кузьмоловский', 'посёлок Стрельна',\n",
       "       'Бокситогорск', 'посёлок Александровская', 'деревня Лопухинка',\n",
       "       'Пикалёво', 'поселок Терволово',\n",
       "       'поселок городского типа Советский', 'Подпорожье',\n",
       "       'посёлок Петровское', 'посёлок городского типа Токсово',\n",
       "       'поселок Сельцо', 'посёлок городского типа Вырица',\n",
       "       'деревня Кипень', 'деревня Келози', 'деревня Вартемяги',\n",
       "       'посёлок Тельмана', 'поселок Севастьяново',\n",
       "       'городской поселок Большая Ижора', nan,\n",
       "       'городской посёлок Павлово', 'деревня Агалатово',\n",
       "       'посёлок Новогорелово', 'городской посёлок Лесогорский',\n",
       "       'деревня Лаголово', 'поселок Цвелодубово',\n",
       "       'поселок городского типа Рахья', 'поселок городского типа Вырица',\n",
       "       'деревня Белогорка', 'поселок Заводской',\n",
       "       'городской посёлок Новоселье', 'деревня Большие Колпаны',\n",
       "       'деревня Горбунки', 'деревня Батово', 'деревня Заневка',\n",
       "       'деревня Иссад', 'Приморск', 'городской посёлок Фёдоровское',\n",
       "       'деревня Мистолово', 'Новая Ладога', 'поселок Зимитицы',\n",
       "       'поселок Барышево', 'деревня Разметелево',\n",
       "       'поселок городского типа имени Свердлова', 'деревня Пеники',\n",
       "       'поселок Рябово', 'деревня Пудомяги', 'поселок станции Корнево',\n",
       "       'деревня Низино', 'деревня Бегуницы', 'посёлок Поляны',\n",
       "       'городской посёлок Мга', 'поселок Елизаветино',\n",
       "       'посёлок городского типа Кузнечное', 'деревня Колтуши',\n",
       "       'поселок Запорожское', 'посёлок городского типа Рощино',\n",
       "       'деревня Гостилицы', 'деревня Малое Карлино',\n",
       "       'посёлок Мичуринское', 'посёлок городского типа имени Морозова',\n",
       "       'посёлок Песочный', 'посёлок Сосново', 'деревня Аро',\n",
       "       'поселок Ильичёво', 'посёлок городского типа Тайцы',\n",
       "       'деревня Малое Верево', 'деревня Извара', 'поселок станции Вещево',\n",
       "       'село Паша', 'деревня Калитино',\n",
       "       'посёлок городского типа Ульяновка', 'деревня Чудской Бор',\n",
       "       'поселок городского типа Дубровка', 'деревня Мины',\n",
       "       'поселок Войсковицы', 'посёлок городского типа имени Свердлова',\n",
       "       'деревня Коркино', 'посёлок Ропша',\n",
       "       'поселок городского типа Приладожский', 'посёлок Щеглово',\n",
       "       'посёлок Гаврилово', 'Лодейное Поле', 'деревня Рабитицы',\n",
       "       'поселок городского типа Никольский', 'деревня Кузьмолово',\n",
       "       'деревня Малые Колпаны', 'поселок Тельмана',\n",
       "       'посёлок Петро-Славянка', 'городской посёлок Назия',\n",
       "       'посёлок Репино', 'посёлок Ильичёво', 'поселок Углово',\n",
       "       'поселок Старая Малукса', 'садовое товарищество Рахья',\n",
       "       'поселок Аннино', 'поселок Победа', 'деревня Меньково',\n",
       "       'деревня Старые Бегуницы', 'посёлок Сапёрный', 'поселок Семрино',\n",
       "       'поселок Гаврилово', 'поселок Глажево', 'поселок Кобринское',\n",
       "       'деревня Гарболово', 'деревня Юкки',\n",
       "       'поселок станции Приветнинское', 'деревня Мануйлово',\n",
       "       'деревня Пчева', 'поселок Поляны', 'поселок Цвылёво',\n",
       "       'поселок Мельниково', 'посёлок Пудость', 'посёлок Усть-Луга',\n",
       "       'Светогорск', 'Любань', 'поселок Селезнёво',\n",
       "       'поселок городского типа Рябово', 'Каменногорск', 'деревня Кривко',\n",
       "       'поселок Глебычево', 'деревня Парицы', 'поселок Жилпосёлок',\n",
       "       'посёлок городского типа Мга', 'городской поселок Янино-1',\n",
       "       'посёлок Войскорово', 'село Никольское', 'посёлок Терволово',\n",
       "       'поселок Стеклянный', 'посёлок городского типа Важины',\n",
       "       'посёлок Мыза-Ивановка', 'село Русско-Высоцкое',\n",
       "       'поселок городского типа Лебяжье',\n",
       "       'поселок городского типа Форносово', 'село Старая Ладога',\n",
       "       'поселок Житково', 'городской посёлок Виллози', 'деревня Лампово',\n",
       "       'деревня Шпаньково', 'деревня Лаврики', 'посёлок Сумино',\n",
       "       'посёлок Возрождение', 'деревня Старосиверская',\n",
       "       'посёлок Кикерино', 'поселок Возрождение',\n",
       "       'деревня Старое Хинколово', 'посёлок Пригородный',\n",
       "       'посёлок Торфяное', 'городской посёлок Будогощь',\n",
       "       'поселок Суходолье', 'поселок Красная Долина', 'деревня Хапо-Ое',\n",
       "       'поселок городского типа Дружная Горка', 'поселок Лисий Нос',\n",
       "       'деревня Яльгелево', 'посёлок Стеклянный', 'село Рождествено',\n",
       "       'деревня Старополье', 'посёлок Левашово', 'деревня Сяськелево',\n",
       "       'деревня Камышовка',\n",
       "       'садоводческое некоммерческое товарищество Лесная Поляна',\n",
       "       'деревня Хязельки', 'поселок Жилгородок',\n",
       "       'посёлок городского типа Павлово', 'деревня Ялгино',\n",
       "       'поселок Новый Учхоз', 'городской посёлок Рощино',\n",
       "       'поселок Гончарово', 'поселок Почап', 'посёлок Сапёрное',\n",
       "       'посёлок Платформа 69-й километр', 'поселок Каложицы',\n",
       "       'деревня Фалилеево', 'деревня Пельгора',\n",
       "       'поселок городского типа Лесогорский', 'деревня Торошковичи',\n",
       "       'посёлок Белоостров', 'посёлок Алексеевка', 'поселок Серебрянский',\n",
       "       'поселок Лукаши', 'поселок Петровское', 'деревня Щеглово',\n",
       "       'поселок Мичуринское', 'деревня Тарасово', 'поселок Кингисеппский',\n",
       "       'посёлок при железнодорожной станции Вещево', 'поселок Ушаки',\n",
       "       'деревня Котлы', 'деревня Сижно', 'деревня Торосово',\n",
       "       'посёлок Форт Красная Горка', 'поселок городского типа Токсово',\n",
       "       'деревня Новолисино', 'посёлок станции Громово', 'деревня Глинка',\n",
       "       'посёлок Мельниково', 'поселок городского типа Назия',\n",
       "       'деревня Старая Пустошь', 'поселок Коммунары', 'поселок Починок',\n",
       "       'посёлок городского типа Вознесенье', 'деревня Разбегаево',\n",
       "       'посёлок городского типа Рябово', 'поселок Гладкое',\n",
       "       'посёлок при железнодорожной станции Приветнинское',\n",
       "       'поселок Тёсово-4', 'посёлок Жилгородок', 'деревня Бор',\n",
       "       'посёлок Коробицыно', 'деревня Большая Вруда', 'деревня Курковицы',\n",
       "       'посёлок Лисий Нос', 'городской посёлок Советский',\n",
       "       'посёлок Кобралово', 'деревня Суоранда', 'поселок Кобралово',\n",
       "       'поселок городского типа Кондратьево',\n",
       "       'коттеджный поселок Счастье', 'поселок Любань', 'деревня Реброво',\n",
       "       'деревня Зимитицы', 'деревня Тойворово', 'поселок Семиозерье',\n",
       "       'поселок Лесное', 'поселок Совхозный', 'поселок Усть-Луга',\n",
       "       'посёлок Ленинское', 'посёлок Суйда',\n",
       "       'посёлок городского типа Форносово', 'деревня Нижние Осельки',\n",
       "       'посёлок станции Свирь', 'поселок Перово', 'Высоцк',\n",
       "       'поселок Гарболово', 'село Шум', 'поселок Котельский',\n",
       "       'поселок станции Лужайка', 'деревня Большая Пустомержа',\n",
       "       'поселок Красносельское', 'деревня Вахнова Кара', 'деревня Пижма',\n",
       "       'коттеджный поселок Кивеннапа Север', 'поселок Коробицыно',\n",
       "       'поселок Ромашки', 'посёлок Перово', 'деревня Каськово',\n",
       "       'деревня Куровицы', 'посёлок Плоское', 'поселок Сумино',\n",
       "       'поселок городского типа Большая Ижора', 'поселок Кирпичное',\n",
       "       'деревня Ям-Тесово', 'деревня Раздолье', 'деревня Терпилицы',\n",
       "       'посёлок Шугозеро', 'деревня Ваганово', 'поселок Пушное',\n",
       "       'садовое товарищество Садко', 'посёлок Усть-Ижора',\n",
       "       'деревня Выскатка', 'городской посёлок Свирьстрой',\n",
       "       'поселок Громово', 'деревня Кисельня', 'посёлок Старая Малукса',\n",
       "       'деревня Трубников Бор', 'поселок Калитино',\n",
       "       'посёлок Высокоключевой', 'садовое товарищество Приладожский',\n",
       "       'посёлок Пансионат Зелёный Бор', 'деревня Ненимяки',\n",
       "       'поселок Пансионат Зелёный Бор', 'деревня Снегирёвка',\n",
       "       'деревня Рапполово', 'деревня Пустынка', 'поселок Рабитицы',\n",
       "       'деревня Большой Сабск', 'деревня Русско', 'деревня Лупполово',\n",
       "       'деревня Большое Рейзино', 'деревня Малая Романовка',\n",
       "       'поселок Дружноселье', 'поселок Пчевжа', 'поселок Володарское',\n",
       "       'деревня Нижняя', 'коттеджный посёлок Лесное', 'деревня Тихковицы',\n",
       "       'деревня Борисова Грива', 'посёлок Дзержинского'], dtype=object)"
      ]
     },
     "execution_count": 16,
     "metadata": {},
     "output_type": "execute_result"
    }
   ],
   "source": [
    "# Посмотрим на список уникальных значение столбца locality_name\n",
    "data.locality_name.unique()"
   ]
  },
  {
   "cell_type": "code",
   "execution_count": 17,
   "metadata": {
    "id": "_u-AK17KzqmL"
   },
   "outputs": [],
   "source": [
    "# Отбросим все слова начинающиеся с маленькой буквы, таким образом останутся только названия населенных пунктов\n",
    "data[\"drop_dupl_locality_name\"] = data[\"locality_name\"].str.replace(\"\\\\b\\ *[a-zа-яё]{3,}\\ *\\\\b\", \"\").str.replace(\"ё\", \"е\")"
   ]
  },
  {
   "cell_type": "markdown",
   "metadata": {
    "id": "eDsBN1i5zxBL"
   },
   "source": [
    "<div class=\"alert alert-success\">\n",
    "<b>✔️ Комментарий ревьюера v1:</b> \n",
    "<br>Супер! Здесь всё верно)\n",
    "</div>"
   ]
  },
  {
   "cell_type": "markdown",
   "metadata": {
    "id": "t3-7QZATzwvp"
   },
   "source": [
    "<div class=\"alert alert-warning\">\n",
    "<b>⚠️ Комментарий ревьюера v1:</b> \n",
    "<br>Чтобы избавиться от вывода предупреждений, нужно добавить эти две строчки. Добавлять их лучше в самую первую ячейку к остальным библиотекам\n",
    "    \n",
    "    import warnings\n",
    "    warnings.simplefilter(\"ignore\")\n",
    "</div>"
   ]
  },
  {
   "cell_type": "code",
   "execution_count": 18,
   "metadata": {
    "colab": {
     "base_uri": "https://localhost:8080/",
     "height": 387
    },
    "id": "9FIUiurAzulA",
    "outputId": "984c1e56-228f-40a4-a16f-2716d55208a8"
   },
   "outputs": [
    {
     "data": {
      "text/html": [
       "<div>\n",
       "<style scoped>\n",
       "    .dataframe tbody tr th:only-of-type {\n",
       "        vertical-align: middle;\n",
       "    }\n",
       "\n",
       "    .dataframe tbody tr th {\n",
       "        vertical-align: top;\n",
       "    }\n",
       "\n",
       "    .dataframe thead th {\n",
       "        text-align: right;\n",
       "    }\n",
       "</style>\n",
       "<table border=\"1\" class=\"dataframe\">\n",
       "  <thead>\n",
       "    <tr style=\"text-align: right;\">\n",
       "      <th></th>\n",
       "      <th>total_images</th>\n",
       "      <th>last_price</th>\n",
       "      <th>total_area</th>\n",
       "      <th>first_day_exposition</th>\n",
       "      <th>rooms</th>\n",
       "      <th>ceiling_height</th>\n",
       "      <th>floors_total</th>\n",
       "      <th>living_area</th>\n",
       "      <th>floor</th>\n",
       "      <th>is_apartment</th>\n",
       "      <th>...</th>\n",
       "      <th>balcony</th>\n",
       "      <th>locality_name</th>\n",
       "      <th>airports_nearest</th>\n",
       "      <th>city_centers_nearest</th>\n",
       "      <th>parks_around3000</th>\n",
       "      <th>parks_nearest</th>\n",
       "      <th>ponds_around3000</th>\n",
       "      <th>ponds_nearest</th>\n",
       "      <th>days_exposition</th>\n",
       "      <th>drop_dupl_locality_name</th>\n",
       "    </tr>\n",
       "  </thead>\n",
       "  <tbody>\n",
       "    <tr>\n",
       "      <th>0</th>\n",
       "      <td>20</td>\n",
       "      <td>13000000</td>\n",
       "      <td>108.000000</td>\n",
       "      <td>2019-03-07</td>\n",
       "      <td>3</td>\n",
       "      <td>2.70</td>\n",
       "      <td>16.0</td>\n",
       "      <td>51.000000</td>\n",
       "      <td>8</td>\n",
       "      <td>False</td>\n",
       "      <td>...</td>\n",
       "      <td>0</td>\n",
       "      <td>Санкт-Петербург</td>\n",
       "      <td>18863.0</td>\n",
       "      <td>16028.0</td>\n",
       "      <td>1.0</td>\n",
       "      <td>482.0</td>\n",
       "      <td>2.0</td>\n",
       "      <td>755.0</td>\n",
       "      <td>NaN</td>\n",
       "      <td>Санкт-Петербург</td>\n",
       "    </tr>\n",
       "    <tr>\n",
       "      <th>1</th>\n",
       "      <td>7</td>\n",
       "      <td>3350000</td>\n",
       "      <td>40.400002</td>\n",
       "      <td>2018-12-04</td>\n",
       "      <td>1</td>\n",
       "      <td>2.65</td>\n",
       "      <td>11.0</td>\n",
       "      <td>18.600000</td>\n",
       "      <td>1</td>\n",
       "      <td>False</td>\n",
       "      <td>...</td>\n",
       "      <td>2</td>\n",
       "      <td>посёлок Шушары</td>\n",
       "      <td>12817.0</td>\n",
       "      <td>18603.0</td>\n",
       "      <td>0.0</td>\n",
       "      <td>NaN</td>\n",
       "      <td>0.0</td>\n",
       "      <td>NaN</td>\n",
       "      <td>81.0</td>\n",
       "      <td>Шушары</td>\n",
       "    </tr>\n",
       "    <tr>\n",
       "      <th>2</th>\n",
       "      <td>10</td>\n",
       "      <td>5196000</td>\n",
       "      <td>56.000000</td>\n",
       "      <td>2015-08-20</td>\n",
       "      <td>2</td>\n",
       "      <td>2.65</td>\n",
       "      <td>5.0</td>\n",
       "      <td>34.299999</td>\n",
       "      <td>4</td>\n",
       "      <td>False</td>\n",
       "      <td>...</td>\n",
       "      <td>0</td>\n",
       "      <td>Санкт-Петербург</td>\n",
       "      <td>21741.0</td>\n",
       "      <td>13933.0</td>\n",
       "      <td>1.0</td>\n",
       "      <td>90.0</td>\n",
       "      <td>2.0</td>\n",
       "      <td>574.0</td>\n",
       "      <td>558.0</td>\n",
       "      <td>Санкт-Петербург</td>\n",
       "    </tr>\n",
       "    <tr>\n",
       "      <th>3</th>\n",
       "      <td>0</td>\n",
       "      <td>64900000</td>\n",
       "      <td>159.000000</td>\n",
       "      <td>2015-07-24</td>\n",
       "      <td>3</td>\n",
       "      <td>2.65</td>\n",
       "      <td>14.0</td>\n",
       "      <td>NaN</td>\n",
       "      <td>9</td>\n",
       "      <td>False</td>\n",
       "      <td>...</td>\n",
       "      <td>0</td>\n",
       "      <td>Санкт-Петербург</td>\n",
       "      <td>28098.0</td>\n",
       "      <td>6800.0</td>\n",
       "      <td>2.0</td>\n",
       "      <td>84.0</td>\n",
       "      <td>3.0</td>\n",
       "      <td>234.0</td>\n",
       "      <td>424.0</td>\n",
       "      <td>Санкт-Петербург</td>\n",
       "    </tr>\n",
       "    <tr>\n",
       "      <th>4</th>\n",
       "      <td>2</td>\n",
       "      <td>10000000</td>\n",
       "      <td>100.000000</td>\n",
       "      <td>2018-06-19</td>\n",
       "      <td>2</td>\n",
       "      <td>3.03</td>\n",
       "      <td>14.0</td>\n",
       "      <td>32.000000</td>\n",
       "      <td>13</td>\n",
       "      <td>False</td>\n",
       "      <td>...</td>\n",
       "      <td>0</td>\n",
       "      <td>Санкт-Петербург</td>\n",
       "      <td>31856.0</td>\n",
       "      <td>8098.0</td>\n",
       "      <td>2.0</td>\n",
       "      <td>112.0</td>\n",
       "      <td>1.0</td>\n",
       "      <td>48.0</td>\n",
       "      <td>121.0</td>\n",
       "      <td>Санкт-Петербург</td>\n",
       "    </tr>\n",
       "  </tbody>\n",
       "</table>\n",
       "<p>5 rows × 23 columns</p>\n",
       "</div>"
      ],
      "text/plain": [
       "   total_images  last_price  total_area first_day_exposition  rooms  \\\n",
       "0            20    13000000  108.000000           2019-03-07      3   \n",
       "1             7     3350000   40.400002           2018-12-04      1   \n",
       "2            10     5196000   56.000000           2015-08-20      2   \n",
       "3             0    64900000  159.000000           2015-07-24      3   \n",
       "4             2    10000000  100.000000           2018-06-19      2   \n",
       "\n",
       "   ceiling_height  floors_total  living_area  floor  is_apartment  ...  \\\n",
       "0            2.70          16.0    51.000000      8         False  ...   \n",
       "1            2.65          11.0    18.600000      1         False  ...   \n",
       "2            2.65           5.0    34.299999      4         False  ...   \n",
       "3            2.65          14.0          NaN      9         False  ...   \n",
       "4            3.03          14.0    32.000000     13         False  ...   \n",
       "\n",
       "   balcony    locality_name  airports_nearest  city_centers_nearest  \\\n",
       "0        0  Санкт-Петербург           18863.0               16028.0   \n",
       "1        2   посёлок Шушары           12817.0               18603.0   \n",
       "2        0  Санкт-Петербург           21741.0               13933.0   \n",
       "3        0  Санкт-Петербург           28098.0                6800.0   \n",
       "4        0  Санкт-Петербург           31856.0                8098.0   \n",
       "\n",
       "  parks_around3000  parks_nearest  ponds_around3000  ponds_nearest  \\\n",
       "0              1.0          482.0               2.0          755.0   \n",
       "1              0.0            NaN               0.0            NaN   \n",
       "2              1.0           90.0               2.0          574.0   \n",
       "3              2.0           84.0               3.0          234.0   \n",
       "4              2.0          112.0               1.0           48.0   \n",
       "\n",
       "   days_exposition  drop_dupl_locality_name  \n",
       "0              NaN          Санкт-Петербург  \n",
       "1             81.0                   Шушары  \n",
       "2            558.0          Санкт-Петербург  \n",
       "3            424.0          Санкт-Петербург  \n",
       "4            121.0          Санкт-Петербург  \n",
       "\n",
       "[5 rows x 23 columns]"
      ]
     },
     "execution_count": 18,
     "metadata": {},
     "output_type": "execute_result"
    }
   ],
   "source": [
    "data.head()"
   ]
  },
  {
   "cell_type": "code",
   "execution_count": 19,
   "metadata": {
    "colab": {
     "base_uri": "https://localhost:8080/"
    },
    "id": "E7xgw16Gz2Wq",
    "outputId": "80ed3725-1327-4c4c-a379-ea8c72085201"
   },
   "outputs": [
    {
     "name": "stdout",
     "output_type": "stream",
     "text": [
      "<class 'pandas.core.frame.DataFrame'>\n",
      "RangeIndex: 23699 entries, 0 to 23698\n",
      "Data columns (total 23 columns):\n",
      " #   Column                   Non-Null Count  Dtype         \n",
      "---  ------                   --------------  -----         \n",
      " 0   total_images             23699 non-null  int64         \n",
      " 1   last_price               23699 non-null  int32         \n",
      " 2   total_area               23699 non-null  float32       \n",
      " 3   first_day_exposition     23699 non-null  datetime64[ns]\n",
      " 4   rooms                    23699 non-null  int64         \n",
      " 5   ceiling_height           23699 non-null  float32       \n",
      " 6   floors_total             23613 non-null  float32       \n",
      " 7   living_area              21796 non-null  float32       \n",
      " 8   floor                    23699 non-null  int64         \n",
      " 9   is_apartment             23699 non-null  bool          \n",
      " 10  studio                   23699 non-null  bool          \n",
      " 11  open_plan                23699 non-null  bool          \n",
      " 12  kitchen_area             21421 non-null  float32       \n",
      " 13  balcony                  23699 non-null  int32         \n",
      " 14  locality_name            23650 non-null  object        \n",
      " 15  airports_nearest         18157 non-null  float32       \n",
      " 16  city_centers_nearest     18180 non-null  float32       \n",
      " 17  parks_around3000         23699 non-null  float32       \n",
      " 18  parks_nearest            8079 non-null   float32       \n",
      " 19  ponds_around3000         23699 non-null  float32       \n",
      " 20  ponds_nearest            9110 non-null   float32       \n",
      " 21  days_exposition          20518 non-null  float32       \n",
      " 22  drop_dupl_locality_name  23650 non-null  object        \n",
      "dtypes: bool(3), datetime64[ns](1), float32(12), int32(2), int64(3), object(2)\n",
      "memory usage: 2.4+ MB\n"
     ]
    }
   ],
   "source": [
    "data.info()"
   ]
  },
  {
   "cell_type": "markdown",
   "metadata": {
    "id": "_fHUoVPTz6lv"
   },
   "source": [
    "Обработка аномалий в столбце ceiling_height\n",
    "Согласно своду правил СП 54.13330.2016 «СНиП 31-01-2003 Здания жилые многоквартирные» минимальная выcoта потолка в центральной России 2,5 м.\n",
    "В связи с этим значения от 25 будут заменены на меньшее в 10 раз\n",
    "\n",
    "Высота потолков больше 4 метров вызывает подозрения, такая высота потолков встречается в элитном жилье (и то до 6 метров), так что удалим данные по этим квартирам\n",
    "\n",
    "Расстояние до аэропрта 0 - странное дело, в аэропорту нет квартир, исключим эту квартиру из выборки\n",
    "\n",
    "Квартира со стоимостью 12190 похожа на аномалию, удалим эти данные\n",
    "\n",
    "Квартиры с площадью больше 500 $м^2$ будем считать элитной недвижимостью, их немного и они могут исказить данные, удалим эти квартиры"
   ]
  },
  {
   "cell_type": "code",
   "execution_count": 20,
   "metadata": {
    "id": "RXsykkWuz5wE"
   },
   "outputs": [],
   "source": [
    "data.loc[data['ceiling_height'] >= 25] = (\n",
    "data.loc[data['ceiling_height'] >= 25].replace(\n",
    "    to_replace=[25.0, 26.0, 27.0, 32.0, 100.0, 27.5], value=[2.5, 2.6, 2.7, 3.2, 10.0, 2.75]))"
   ]
  },
  {
   "cell_type": "code",
   "execution_count": 21,
   "metadata": {
    "colab": {
     "base_uri": "https://localhost:8080/"
    },
    "id": "O9cA9shi0EQk",
    "outputId": "fa96e85d-fcab-4025-dc02-864ec51b1349"
   },
   "outputs": [
    {
     "data": {
      "text/plain": [
       "array([ 1.  ,  1.2 ,  1.75,  2.  ,  2.2 ,  2.25,  2.3 ,  2.34,  2.4 ,\n",
       "        2.45,  2.46,  2.47,  2.48,  2.49,  2.5 ,  2.51,  2.52,  2.53,\n",
       "        2.54,  2.55,  2.56,  2.57,  2.58,  2.59,  2.6 ,  2.61,  2.62,\n",
       "        2.63,  2.64,  2.65,  2.66,  2.67,  2.68,  2.69,  2.7 ,  2.71,\n",
       "        2.72,  2.73,  2.74,  2.75,  2.76,  2.77,  2.78,  2.79,  2.8 ,\n",
       "        2.81,  2.82,  2.83,  2.84,  2.85,  2.86,  2.87,  2.88,  2.89,\n",
       "        2.9 ,  2.91,  2.92,  2.93,  2.94,  2.95,  2.96,  2.97,  2.98,\n",
       "        2.99,  3.  ,  3.01,  3.02,  3.03,  3.04,  3.05,  3.06,  3.07,\n",
       "        3.08,  3.09,  3.1 ,  3.11,  3.12,  3.13,  3.14,  3.15,  3.16,\n",
       "        3.17,  3.18,  3.2 ,  3.21,  3.22,  3.23,  3.24,  3.25,  3.26,\n",
       "        3.27,  3.28,  3.29,  3.3 ,  3.31,  3.32,  3.33,  3.34,  3.35,\n",
       "        3.36,  3.37,  3.38,  3.39,  3.4 ,  3.42,  3.43,  3.44,  3.45,\n",
       "        3.46,  3.47,  3.48,  3.49,  3.5 ,  3.51,  3.52,  3.53,  3.54,\n",
       "        3.55,  3.56,  3.57,  3.58,  3.59,  3.6 ,  3.62,  3.63,  3.65,\n",
       "        3.66,  3.67,  3.68,  3.69,  3.7 ,  3.75,  3.76,  3.78,  3.8 ,\n",
       "        3.82,  3.83,  3.84,  3.85,  3.86,  3.87,  3.88,  3.9 ,  3.93,\n",
       "        3.95,  3.98,  4.  ,  4.06,  4.1 ,  4.14,  4.15,  4.19,  4.2 ,\n",
       "        4.25,  4.3 ,  4.37,  4.4 ,  4.45,  4.5 ,  4.65,  4.7 ,  4.8 ,\n",
       "        4.9 ,  5.  ,  5.2 ,  5.3 ,  5.5 ,  5.6 ,  5.8 ,  6.  ,  8.  ,\n",
       "        8.3 , 10.  , 10.3 , 14.  , 20.  , 22.6 , 24.  ], dtype=float32)"
      ]
     },
     "execution_count": 21,
     "metadata": {},
     "output_type": "execute_result"
    }
   ],
   "source": [
    "data['ceiling_height'].sort_values().unique()"
   ]
  },
  {
   "cell_type": "code",
   "execution_count": 22,
   "metadata": {
    "colab": {
     "base_uri": "https://localhost:8080/"
    },
    "id": "t_me8A7G0F_i",
    "outputId": "74dd0785-22d2-4088-c7f0-dfde59e1f840"
   },
   "outputs": [
    {
     "data": {
      "text/plain": [
       "count    21421.000000\n",
       "mean        10.569807\n",
       "std          5.905438\n",
       "min          1.300000\n",
       "25%          7.000000\n",
       "50%          9.100000\n",
       "75%         12.000000\n",
       "max        112.000000\n",
       "Name: kitchen_area, dtype: float64"
      ]
     },
     "execution_count": 22,
     "metadata": {},
     "output_type": "execute_result"
    }
   ],
   "source": [
    "data['kitchen_area'].describe()"
   ]
  },
  {
   "cell_type": "code",
   "execution_count": 23,
   "metadata": {
    "colab": {
     "base_uri": "https://localhost:8080/"
    },
    "id": "xRJk384t0Inu",
    "outputId": "af9446b9-cc8c-422f-98ab-04c5df51c035"
   },
   "outputs": [
    {
     "data": {
      "text/plain": [
       "0.0"
      ]
     },
     "execution_count": 23,
     "metadata": {},
     "output_type": "execute_result"
    }
   ],
   "source": [
    "data['airports_nearest'].min()"
   ]
  },
  {
   "cell_type": "code",
   "execution_count": 24,
   "metadata": {
    "colab": {
     "base_uri": "https://localhost:8080/"
    },
    "id": "6gWxkxx60KRA",
    "outputId": "90e0d177-7aa9-4dcc-eac9-b6ce011694b5"
   },
   "outputs": [
    {
     "data": {
      "text/plain": [
       "12190"
      ]
     },
     "execution_count": 24,
     "metadata": {},
     "output_type": "execute_result"
    }
   ],
   "source": [
    "data['last_price'].min()"
   ]
  },
  {
   "cell_type": "code",
   "execution_count": 25,
   "metadata": {
    "colab": {
     "base_uri": "https://localhost:8080/"
    },
    "id": "d_FH5Gec0LvH",
    "outputId": "9f818f58-f85b-4c93-db22-dba722204a90"
   },
   "outputs": [
    {
     "data": {
      "text/plain": [
       "7"
      ]
     },
     "execution_count": 25,
     "metadata": {},
     "output_type": "execute_result"
    }
   ],
   "source": [
    "data.query('total_area > 500')['total_area'].count()"
   ]
  },
  {
   "cell_type": "code",
   "execution_count": 26,
   "metadata": {
    "id": "Akfgepls0NqQ"
   },
   "outputs": [],
   "source": [
    "df = copy(data)"
   ]
  },
  {
   "cell_type": "code",
   "execution_count": 27,
   "metadata": {
    "id": "qU3JyQW30QkQ"
   },
   "outputs": [],
   "source": [
    "df.drop(index=df.query('(kitchen_area < 2) or (airports_nearest < 1) or (last_price > 80000000 \\\n",
    "                                 or last_price < 100000) or (airports_nearest < 1) or (ceiling_height > 4) \\\n",
    "                                 or (ceiling_height < 2.5) or (rooms > 7)').index, inplace=True)"
   ]
  },
  {
   "cell_type": "code",
   "execution_count": 28,
   "metadata": {
    "colab": {
     "base_uri": "https://localhost:8080/"
    },
    "id": "EAcySHYl0SIV",
    "outputId": "a74e95b9-8f3a-473c-b09a-4f4661c963b4"
   },
   "outputs": [
    {
     "data": {
      "text/plain": [
       "0.991096670745601"
      ]
     },
     "execution_count": 28,
     "metadata": {},
     "output_type": "execute_result"
    }
   ],
   "source": [
    "# Проверим как много данных мы отбросили\n",
    "df.shape[0] / data.shape[0]"
   ]
  },
  {
   "cell_type": "code",
   "execution_count": 29,
   "metadata": {
    "id": "TasA8O6p0Tuh"
   },
   "outputs": [],
   "source": [
    "data = copy(df)"
   ]
  },
  {
   "cell_type": "markdown",
   "metadata": {
    "id": "hEpQWPyA0YTh"
   },
   "source": [
    "Во всех остальных столбцах данные не показывают аномальных значений"
   ]
  },
  {
   "cell_type": "code",
   "execution_count": 30,
   "metadata": {
    "colab": {
     "base_uri": "https://localhost:8080/"
    },
    "id": "AJB5nKFE0V-Y",
    "outputId": "def454de-5a64-4284-cced-93980f4bfe96"
   },
   "outputs": [
    {
     "data": {
      "text/plain": [
       "0"
      ]
     },
     "execution_count": 30,
     "metadata": {},
     "output_type": "execute_result"
    }
   ],
   "source": [
    "# Проверим данные на наличие явных дубликатов\n",
    "data.duplicated().sum()"
   ]
  },
  {
   "cell_type": "markdown",
   "metadata": {
    "id": "qwiHxTpn0cld"
   },
   "source": [
    "<div class=\"alert alert-danger\">\n",
    "<b>❌ Комментарий ревьюера v1:</b> \n",
    "<br>В итоге ты отбросила почти 70% от всех данных, а доступимо отбросить не более 10%. Основные столбцы где стоит поработать с выбросами это стоимость квартиры, высота потолков, количество комнат и общая площадь. Остальные можно не трогать. Если ты всё-таки хочешь обработать все столбцы, то уменьши количество отбрасываемых данных до quantile(0.005) и quantile(0.995). Вне зависимости от того способа, который ты выберешь не забудь проверить количество отбрасываемых данных. С этим поможет следующая команда\n",
    "\n",
    "\tnew_data.shape[0] / old_data.shape[0]\n",
    "</div>"
   ]
  },
  {
   "cell_type": "markdown",
   "metadata": {},
   "source": [
    "<div class=\"alert alert-success\">\n",
    "<b>✔️ Комментарий ревьюера v2:</b>\n",
    "<br>Отлично! Теперь всё верно)\n",
    "</div>"
   ]
  },
  {
   "cell_type": "markdown",
   "metadata": {
    "id": "OkF7oR850fzP"
   },
   "source": [
    "# 3. Посчитайте и добавьте в таблицу новые столбцы\n",
    "цена одного квадратного метра;\n",
    "\n",
    "день недели публикации объявления (0 — понедельник, 1 — вторник и так далее);\n",
    "\n",
    "месяц публикации объявления;\n",
    "\n",
    "год публикации объявления;\n",
    "\n",
    "тип этажа квартиры (значения — «‎первый», «последний», «другой»);\n",
    "\n",
    "расстояние до центра города в километрах (переведите из м в км и округлите до целых значений)."
   ]
  },
  {
   "cell_type": "code",
   "execution_count": 31,
   "metadata": {
    "id": "4X5RnRf_0ajp"
   },
   "outputs": [],
   "source": [
    "def floor_name(number, total_floor):\n",
    "  if number == 1:\n",
    "    return 'Первый'\n",
    "  elif number == total_floor:\n",
    "    return 'Последний'\n",
    "  else:\n",
    "    return 'Другой'"
   ]
  },
  {
   "cell_type": "code",
   "execution_count": 32,
   "metadata": {
    "id": "FjDNSZfT0nVD"
   },
   "outputs": [],
   "source": [
    "data['price_per_squre_m'] = round(data['last_price'] / data['total_area'], 2)\n",
    "data['publication_day'] = data['first_day_exposition'].dt.weekday\n",
    "data['publication_month'] = data['first_day_exposition'].dt.month\n",
    "data['publication_year'] = data['first_day_exposition'].dt.year\n",
    "data['floor_type'] = data.apply(lambda x: floor_name(x['floor'], x['floors_total']), axis=1)\n",
    "data['city_centers_nearest_km'] = round(data['city_centers_nearest'] / 1000, 0)\n",
    "data['city_centers_nearest_km'] = data['city_centers_nearest_km'].astype('int64',errors='ignore')"
   ]
  },
  {
   "cell_type": "code",
   "execution_count": 33,
   "metadata": {
    "colab": {
     "base_uri": "https://localhost:8080/",
     "height": 300
    },
    "id": "HsUbwfVf0pCS",
    "outputId": "42f516d7-b3a3-4f7b-b601-6b2fee6c0909"
   },
   "outputs": [
    {
     "data": {
      "text/html": [
       "<div>\n",
       "<style scoped>\n",
       "    .dataframe tbody tr th:only-of-type {\n",
       "        vertical-align: middle;\n",
       "    }\n",
       "\n",
       "    .dataframe tbody tr th {\n",
       "        vertical-align: top;\n",
       "    }\n",
       "\n",
       "    .dataframe thead th {\n",
       "        text-align: right;\n",
       "    }\n",
       "</style>\n",
       "<table border=\"1\" class=\"dataframe\">\n",
       "  <thead>\n",
       "    <tr style=\"text-align: right;\">\n",
       "      <th></th>\n",
       "      <th>total_images</th>\n",
       "      <th>last_price</th>\n",
       "      <th>total_area</th>\n",
       "      <th>first_day_exposition</th>\n",
       "      <th>rooms</th>\n",
       "      <th>ceiling_height</th>\n",
       "      <th>floors_total</th>\n",
       "      <th>living_area</th>\n",
       "      <th>floor</th>\n",
       "      <th>is_apartment</th>\n",
       "      <th>...</th>\n",
       "      <th>ponds_around3000</th>\n",
       "      <th>ponds_nearest</th>\n",
       "      <th>days_exposition</th>\n",
       "      <th>drop_dupl_locality_name</th>\n",
       "      <th>price_per_squre_m</th>\n",
       "      <th>publication_day</th>\n",
       "      <th>publication_month</th>\n",
       "      <th>publication_year</th>\n",
       "      <th>floor_type</th>\n",
       "      <th>city_centers_nearest_km</th>\n",
       "    </tr>\n",
       "  </thead>\n",
       "  <tbody>\n",
       "    <tr>\n",
       "      <th>0</th>\n",
       "      <td>20</td>\n",
       "      <td>13000000</td>\n",
       "      <td>108.000000</td>\n",
       "      <td>2019-03-07</td>\n",
       "      <td>3</td>\n",
       "      <td>2.70</td>\n",
       "      <td>16.0</td>\n",
       "      <td>51.000000</td>\n",
       "      <td>8</td>\n",
       "      <td>False</td>\n",
       "      <td>...</td>\n",
       "      <td>2.0</td>\n",
       "      <td>755.0</td>\n",
       "      <td>NaN</td>\n",
       "      <td>Санкт-Петербург</td>\n",
       "      <td>120370.37</td>\n",
       "      <td>3</td>\n",
       "      <td>3</td>\n",
       "      <td>2019</td>\n",
       "      <td>Другой</td>\n",
       "      <td>16.0</td>\n",
       "    </tr>\n",
       "    <tr>\n",
       "      <th>1</th>\n",
       "      <td>7</td>\n",
       "      <td>3350000</td>\n",
       "      <td>40.400002</td>\n",
       "      <td>2018-12-04</td>\n",
       "      <td>1</td>\n",
       "      <td>2.65</td>\n",
       "      <td>11.0</td>\n",
       "      <td>18.600000</td>\n",
       "      <td>1</td>\n",
       "      <td>False</td>\n",
       "      <td>...</td>\n",
       "      <td>0.0</td>\n",
       "      <td>NaN</td>\n",
       "      <td>81.0</td>\n",
       "      <td>Шушары</td>\n",
       "      <td>82920.79</td>\n",
       "      <td>1</td>\n",
       "      <td>12</td>\n",
       "      <td>2018</td>\n",
       "      <td>Первый</td>\n",
       "      <td>19.0</td>\n",
       "    </tr>\n",
       "    <tr>\n",
       "      <th>2</th>\n",
       "      <td>10</td>\n",
       "      <td>5196000</td>\n",
       "      <td>56.000000</td>\n",
       "      <td>2015-08-20</td>\n",
       "      <td>2</td>\n",
       "      <td>2.65</td>\n",
       "      <td>5.0</td>\n",
       "      <td>34.299999</td>\n",
       "      <td>4</td>\n",
       "      <td>False</td>\n",
       "      <td>...</td>\n",
       "      <td>2.0</td>\n",
       "      <td>574.0</td>\n",
       "      <td>558.0</td>\n",
       "      <td>Санкт-Петербург</td>\n",
       "      <td>92785.71</td>\n",
       "      <td>3</td>\n",
       "      <td>8</td>\n",
       "      <td>2015</td>\n",
       "      <td>Другой</td>\n",
       "      <td>14.0</td>\n",
       "    </tr>\n",
       "    <tr>\n",
       "      <th>3</th>\n",
       "      <td>0</td>\n",
       "      <td>64900000</td>\n",
       "      <td>159.000000</td>\n",
       "      <td>2015-07-24</td>\n",
       "      <td>3</td>\n",
       "      <td>2.65</td>\n",
       "      <td>14.0</td>\n",
       "      <td>NaN</td>\n",
       "      <td>9</td>\n",
       "      <td>False</td>\n",
       "      <td>...</td>\n",
       "      <td>3.0</td>\n",
       "      <td>234.0</td>\n",
       "      <td>424.0</td>\n",
       "      <td>Санкт-Петербург</td>\n",
       "      <td>408176.10</td>\n",
       "      <td>4</td>\n",
       "      <td>7</td>\n",
       "      <td>2015</td>\n",
       "      <td>Другой</td>\n",
       "      <td>7.0</td>\n",
       "    </tr>\n",
       "    <tr>\n",
       "      <th>4</th>\n",
       "      <td>2</td>\n",
       "      <td>10000000</td>\n",
       "      <td>100.000000</td>\n",
       "      <td>2018-06-19</td>\n",
       "      <td>2</td>\n",
       "      <td>3.03</td>\n",
       "      <td>14.0</td>\n",
       "      <td>32.000000</td>\n",
       "      <td>13</td>\n",
       "      <td>False</td>\n",
       "      <td>...</td>\n",
       "      <td>1.0</td>\n",
       "      <td>48.0</td>\n",
       "      <td>121.0</td>\n",
       "      <td>Санкт-Петербург</td>\n",
       "      <td>100000.00</td>\n",
       "      <td>1</td>\n",
       "      <td>6</td>\n",
       "      <td>2018</td>\n",
       "      <td>Другой</td>\n",
       "      <td>8.0</td>\n",
       "    </tr>\n",
       "  </tbody>\n",
       "</table>\n",
       "<p>5 rows × 29 columns</p>\n",
       "</div>"
      ],
      "text/plain": [
       "   total_images  last_price  total_area first_day_exposition  rooms  \\\n",
       "0            20    13000000  108.000000           2019-03-07      3   \n",
       "1             7     3350000   40.400002           2018-12-04      1   \n",
       "2            10     5196000   56.000000           2015-08-20      2   \n",
       "3             0    64900000  159.000000           2015-07-24      3   \n",
       "4             2    10000000  100.000000           2018-06-19      2   \n",
       "\n",
       "   ceiling_height  floors_total  living_area  floor  is_apartment  ...  \\\n",
       "0            2.70          16.0    51.000000      8         False  ...   \n",
       "1            2.65          11.0    18.600000      1         False  ...   \n",
       "2            2.65           5.0    34.299999      4         False  ...   \n",
       "3            2.65          14.0          NaN      9         False  ...   \n",
       "4            3.03          14.0    32.000000     13         False  ...   \n",
       "\n",
       "   ponds_around3000  ponds_nearest  days_exposition  drop_dupl_locality_name  \\\n",
       "0               2.0          755.0              NaN          Санкт-Петербург   \n",
       "1               0.0            NaN             81.0                   Шушары   \n",
       "2               2.0          574.0            558.0          Санкт-Петербург   \n",
       "3               3.0          234.0            424.0          Санкт-Петербург   \n",
       "4               1.0           48.0            121.0          Санкт-Петербург   \n",
       "\n",
       "  price_per_squre_m  publication_day  publication_month  publication_year  \\\n",
       "0         120370.37                3                  3              2019   \n",
       "1          82920.79                1                 12              2018   \n",
       "2          92785.71                3                  8              2015   \n",
       "3         408176.10                4                  7              2015   \n",
       "4         100000.00                1                  6              2018   \n",
       "\n",
       "   floor_type  city_centers_nearest_km  \n",
       "0      Другой                     16.0  \n",
       "1      Первый                     19.0  \n",
       "2      Другой                     14.0  \n",
       "3      Другой                      7.0  \n",
       "4      Другой                      8.0  \n",
       "\n",
       "[5 rows x 29 columns]"
      ]
     },
     "execution_count": 33,
     "metadata": {},
     "output_type": "execute_result"
    }
   ],
   "source": [
    "data.head()"
   ]
  },
  {
   "cell_type": "markdown",
   "metadata": {
    "id": "TTaG_uSJ0tE2"
   },
   "source": [
    "<div class=\"alert alert-success\">\n",
    "<b>✔️ Комментарий ревьюера v1:</b> \n",
    "<br>Все необходимые колонки добавлены. Идём дальше)\n",
    "</div>"
   ]
  },
  {
   "cell_type": "markdown",
   "metadata": {
    "id": "m8-sVO_D0v9e"
   },
   "source": [
    "# 4. Исследовательский анализ данных"
   ]
  },
  {
   "cell_type": "markdown",
   "metadata": {
    "id": "snyvSYJC0-cA"
   },
   "source": [
    "### 4.1. Изучите следующие параметры объектов:\n",
    "\n",
    "- общая площадь;\n",
    "\n",
    "- жилая площадь;\n",
    "\n",
    "- площадь кухни;\n",
    "\n",
    "- цена объекта;\n",
    "\n",
    "- количество комнат;\n",
    "\n",
    "- высота потолков;\n",
    "\n",
    "- этаж квартиры;\n",
    "\n",
    "- тип этажа квартиры («первый», «последний», «другой»);\n",
    "\n",
    "- общее количество этажей в доме;\n",
    "\n",
    "- расстояние до центра города в метрах;\n",
    "\n",
    "- расстояние до ближайшего аэропорта;\n",
    "\n",
    "- расстояние до ближайшего парка;\n",
    "\n",
    "- день и месяц публикации объявления."
   ]
  },
  {
   "cell_type": "code",
   "execution_count": 34,
   "metadata": {
    "colab": {
     "base_uri": "https://localhost:8080/"
    },
    "id": "qdHjcSmK0rLm",
    "outputId": "37f3ba60-5d93-48eb-9fe1-4c495197e0e1"
   },
   "outputs": [
    {
     "data": {
      "text/plain": [
       "count    23488.000000\n",
       "mean        59.415924\n",
       "std         31.408564\n",
       "min          2.500000\n",
       "25%         40.000000\n",
       "50%         52.000000\n",
       "75%         69.199997\n",
       "max        517.000000\n",
       "Name: total_area, dtype: float64"
      ]
     },
     "execution_count": 34,
     "metadata": {},
     "output_type": "execute_result"
    }
   ],
   "source": [
    "data['total_area'].describe()"
   ]
  },
  {
   "cell_type": "code",
   "execution_count": 35,
   "metadata": {
    "colab": {
     "base_uri": "https://localhost:8080/",
     "height": 374
    },
    "id": "isb6t8g_1DVq",
    "outputId": "cd2f9666-6370-4c67-e670-8d95f6bbee9c"
   },
   "outputs": [
    {
     "data": {
      "image/png": "[encoded data removed]",
      "text/plain": [
       "<Figure size 720x432 with 1 Axes>"
      ]
     },
     "metadata": {
      "needs_background": "light"
     },
     "output_type": "display_data"
    }
   ],
   "source": [
    "data.plot(y='total_area', kind='hist', figsize=(10, 6), grid=True, bins=30);"
   ]
  },
  {
   "cell_type": "markdown",
   "metadata": {
    "id": "h8N2IfBc1H3x"
   },
   "source": [
    "Как видно из гистограммы явных аномалий нет. Распределение номрмальное со сдвигом вправо, пик распределения приходится на 53 $м^2$, значения больше 150 $м^2$ встречаются редко"
   ]
  },
  {
   "cell_type": "code",
   "execution_count": 36,
   "metadata": {
    "colab": {
     "base_uri": "https://localhost:8080/"
    },
    "id": "t-JVayzB1FIz",
    "outputId": "6829af10-86c9-454e-e823-586e568a41a6"
   },
   "outputs": [
    {
     "data": {
      "text/plain": [
       "count    21605.000000\n",
       "mean        33.927383\n",
       "std         19.906958\n",
       "min          2.000000\n",
       "25%         18.600000\n",
       "50%         30.000000\n",
       "75%         42.099998\n",
       "max        332.000000\n",
       "Name: living_area, dtype: float64"
      ]
     },
     "execution_count": 36,
     "metadata": {},
     "output_type": "execute_result"
    }
   ],
   "source": [
    "data['living_area'].describe()"
   ]
  },
  {
   "cell_type": "code",
   "execution_count": 37,
   "metadata": {
    "colab": {
     "base_uri": "https://localhost:8080/",
     "height": 374
    },
    "id": "TM7uouT_1Kar",
    "outputId": "89afefe2-cfd8-477b-f1fb-b5843ac8fdb3"
   },
   "outputs": [
    {
     "data": {
      "image/png": "[encoded data removed]",
      "text/plain": [
       "<Figure size 720x432 with 1 Axes>"
      ]
     },
     "metadata": {
      "needs_background": "light"
     },
     "output_type": "display_data"
    }
   ],
   "source": [
    "data.plot(y='living_area', kind='hist', figsize=(10, 6), grid=True, bins=40);"
   ]
  },
  {
   "cell_type": "markdown",
   "metadata": {
    "id": "VLOKdg6w1QeU"
   },
   "source": [
    "здесь также видно номарльное распределение, большие значения есть, например 250 $м^2$, но они укладываются в логику столбца (может быть квартира с такой жилой площадью)"
   ]
  },
  {
   "cell_type": "code",
   "execution_count": 38,
   "metadata": {
    "colab": {
     "base_uri": "https://localhost:8080/"
    },
    "id": "Ny3bs0uk1NA_",
    "outputId": "cefe5d2a-45e1-4c27-b882-8959738386a9"
   },
   "outputs": [
    {
     "data": {
      "text/plain": [
       "count    21238.000000\n",
       "mean        10.486285\n",
       "std          5.576087\n",
       "min          2.000000\n",
       "25%          7.000000\n",
       "50%          9.100000\n",
       "75%         12.000000\n",
       "max        100.699997\n",
       "Name: kitchen_area, dtype: float64"
      ]
     },
     "execution_count": 38,
     "metadata": {},
     "output_type": "execute_result"
    }
   ],
   "source": [
    "data['kitchen_area'].describe()"
   ]
  },
  {
   "cell_type": "code",
   "execution_count": 39,
   "metadata": {
    "colab": {
     "base_uri": "https://localhost:8080/",
     "height": 374
    },
    "id": "WaHtH6g61Sq1",
    "outputId": "dd6c275a-e84b-4c70-e6a3-957e491579a6"
   },
   "outputs": [
    {
     "data": {
      "image/png": "[encoded data removed]",
      "text/plain": [
       "<Figure size 720x432 with 1 Axes>"
      ]
     },
     "metadata": {
      "needs_background": "light"
     },
     "output_type": "display_data"
    }
   ],
   "source": [
    "data.plot(y='kitchen_area', kind='hist', figsize=(10, 6), grid=True, bins= 50);"
   ]
  },
  {
   "cell_type": "markdown",
   "metadata": {
    "id": "bsl4uCWA1WsE"
   },
   "source": [
    "Аналогично предыдущей гистограмме здесь тоже все  пределах нормы"
   ]
  },
  {
   "cell_type": "code",
   "execution_count": 40,
   "metadata": {
    "colab": {
     "base_uri": "https://localhost:8080/"
    },
    "id": "yUiJOHP71UVl",
    "outputId": "64f82e2c-b094-4554-902c-b46d5d5d3272"
   },
   "outputs": [
    {
     "data": {
      "text/plain": [
       "count              23,488.00\n",
       "mean            6,137,923.01\n",
       "std             5,803,426.82\n",
       "min               430,000.00\n",
       "25%             3,400,000.00\n",
       "50%             4,600,000.00\n",
       "75%             6,700,000.00\n",
       "max            80,000,000.00\n",
       "Name: last_price, dtype: float64"
      ]
     },
     "execution_count": 40,
     "metadata": {},
     "output_type": "execute_result"
    }
   ],
   "source": [
    "pd.options.display.float_format = '{:20,.2f}'.format\n",
    "data['last_price'].describe()"
   ]
  },
  {
   "cell_type": "code",
   "execution_count": 41,
   "metadata": {
    "colab": {
     "base_uri": "https://localhost:8080/",
     "height": 387
    },
    "id": "IZnXfFCR1Yqa",
    "outputId": "d5ff155d-9f16-41b6-ecee-832a3cca8da6"
   },
   "outputs": [
    {
     "data": {
      "image/png": "[encoded data removed]",
      "text/plain": [
       "<Figure size 720x432 with 1 Axes>"
      ]
     },
     "metadata": {
      "needs_background": "light"
     },
     "output_type": "display_data"
    }
   ],
   "source": [
    "data.plot(y='last_price', kind='hist', figsize=(10, 6), grid=True, bins=500, xlim=(0,40000000));"
   ]
  },
  {
   "cell_type": "markdown",
   "metadata": {},
   "source": [
    "<div class=\"alert alert-warning\">\n",
    "<b>⚠️ Комментарий ревьюера v2:</b> \n",
    "<br>Тут можно разделить все значения в столбце last_price на 1 млн, чтобы они пришли в более понятный вид)\n",
    "</div>"
   ]
  },
  {
   "cell_type": "markdown",
   "metadata": {
    "id": "Jmz0pc8M1cLO"
   },
   "source": [
    "Из гистограммы видно, что в среднем квартиры стоят 6 млн., однако в выборку попала картира стоимостью 420 млн, если посмотреть данные, то окажется, что это не аномалия, а просто очень большая квартира площадью 900 $м^2$"
   ]
  },
  {
   "cell_type": "code",
   "execution_count": 42,
   "metadata": {
    "colab": {
     "base_uri": "https://localhost:8080/"
    },
    "id": "S3icp6Av1aLs",
    "outputId": "7d7fbf87-d9aa-402a-ca9f-32a3e004cf87"
   },
   "outputs": [
    {
     "data": {
      "text/plain": [
       "count              23,488.00\n",
       "mean                    2.05\n",
       "std                     1.03\n",
       "min                     0.00\n",
       "25%                     1.00\n",
       "50%                     2.00\n",
       "75%                     3.00\n",
       "max                     7.00\n",
       "Name: rooms, dtype: float64"
      ]
     },
     "execution_count": 42,
     "metadata": {},
     "output_type": "execute_result"
    }
   ],
   "source": [
    "data['rooms'].describe()"
   ]
  },
  {
   "cell_type": "code",
   "execution_count": 43,
   "metadata": {
    "colab": {
     "base_uri": "https://localhost:8080/",
     "height": 374
    },
    "id": "zHT8DkiR1ezg",
    "outputId": "2ed40576-8995-4100-ea3e-2d52beba0764"
   },
   "outputs": [
    {
     "data": {
      "image/png": "[encoded data removed]",
      "text/plain": [
       "<Figure size 720x432 with 1 Axes>"
      ]
     },
     "metadata": {
      "needs_background": "light"
     },
     "output_type": "display_data"
    }
   ],
   "source": [
    "data.plot(y='rooms', kind='hist', figsize=(10, 6), grid=True, bins= 1 + int(np.log2(len(data))));"
   ]
  },
  {
   "cell_type": "markdown",
   "metadata": {
    "id": "cEYH2W4e1jDw"
   },
   "source": [
    "Тут тоже все хорошо, среднее количество комнат 2"
   ]
  },
  {
   "cell_type": "code",
   "execution_count": 44,
   "metadata": {
    "colab": {
     "base_uri": "https://localhost:8080/"
    },
    "id": "jixj0EE_1gwF",
    "outputId": "ca7f929b-a199-4236-c71d-f8cec3fa6472"
   },
   "outputs": [
    {
     "data": {
      "text/plain": [
       "count              23,488.00\n",
       "mean                    2.69\n",
       "std                     0.20\n",
       "min                     2.50\n",
       "25%                     2.60\n",
       "50%                     2.65\n",
       "75%                     2.70\n",
       "max                     4.00\n",
       "Name: ceiling_height, dtype: float64"
      ]
     },
     "execution_count": 44,
     "metadata": {},
     "output_type": "execute_result"
    }
   ],
   "source": [
    "data['ceiling_height'].describe()"
   ]
  },
  {
   "cell_type": "code",
   "execution_count": 45,
   "metadata": {
    "colab": {
     "base_uri": "https://localhost:8080/",
     "height": 374
    },
    "id": "vxpmVh2U1pCS",
    "outputId": "9c978401-720c-46b6-df7a-eb8cdb567f88"
   },
   "outputs": [
    {
     "data": {
      "image/png": "[encoded data removed]",
      "text/plain": [
       "<Figure size 720x432 with 1 Axes>"
      ]
     },
     "metadata": {
      "needs_background": "light"
     },
     "output_type": "display_data"
    }
   ],
   "source": [
    "data.plot(y='ceiling_height', kind='hist', figsize=(10, 6), grid=True, bins= 1 + int(np.log2(len(data))));"
   ]
  },
  {
   "cell_type": "markdown",
   "metadata": {
    "id": "sSjuKyZM1y10"
   },
   "source": [
    "Высота потолков не превышает 6 метров и начинается с 2.5, мы сами оставли только такие значения в данных, среднее значение 2.69"
   ]
  },
  {
   "cell_type": "code",
   "execution_count": 46,
   "metadata": {
    "colab": {
     "base_uri": "https://localhost:8080/"
    },
    "id": "ZWaAml2A1vR2",
    "outputId": "f50dfad5-f257-47c3-992d-a5b8f7c00285"
   },
   "outputs": [
    {
     "data": {
      "text/plain": [
       "count              23,488.00\n",
       "mean                    5.90\n",
       "std                     4.89\n",
       "min                     1.00\n",
       "25%                     2.00\n",
       "50%                     4.00\n",
       "75%                     8.00\n",
       "max                    33.00\n",
       "Name: floor, dtype: float64"
      ]
     },
     "execution_count": 46,
     "metadata": {},
     "output_type": "execute_result"
    }
   ],
   "source": [
    "data['floor'].describe()"
   ]
  },
  {
   "cell_type": "code",
   "execution_count": 47,
   "metadata": {
    "colab": {
     "base_uri": "https://localhost:8080/",
     "height": 374
    },
    "id": "msb_LgjV13Qg",
    "outputId": "3709c113-d714-4be4-ddbc-9abb69885951"
   },
   "outputs": [
    {
     "data": {
      "image/png": "[encoded data removed]",
      "text/plain": [
       "<Figure size 720x432 with 1 Axes>"
      ]
     },
     "metadata": {
      "needs_background": "light"
     },
     "output_type": "display_data"
    }
   ],
   "source": [
    "data.plot(y='floor', kind='hist', figsize=(10, 6), grid=True, bins= 1 + int(np.log2(len(data))));"
   ]
  },
  {
   "cell_type": "markdown",
   "metadata": {
    "id": "5m1V2Qvj17wV"
   },
   "source": [
    "В этаже квартир никаких аномалий."
   ]
  },
  {
   "cell_type": "code",
   "execution_count": 48,
   "metadata": {
    "colab": {
     "base_uri": "https://localhost:8080/"
    },
    "id": "Jt4U64wJ15Eu",
    "outputId": "ca9d7bfe-54e7-4311-ae9e-7c5d9e18e12d"
   },
   "outputs": [
    {
     "data": {
      "text/plain": [
       "count      23488\n",
       "unique         3\n",
       "top       Другой\n",
       "freq       17325\n",
       "Name: floor_type, dtype: object"
      ]
     },
     "execution_count": 48,
     "metadata": {},
     "output_type": "execute_result"
    }
   ],
   "source": [
    "data['floor_type'].describe()"
   ]
  },
  {
   "cell_type": "code",
   "execution_count": 49,
   "metadata": {
    "colab": {
     "base_uri": "https://localhost:8080/",
     "height": 374
    },
    "id": "0nVAXCoV2X5u",
    "outputId": "6a871e04-d070-4524-f268-4cee4f2eb5a7"
   },
   "outputs": [
    {
     "data": {
      "image/png": "[encoded data removed]",
      "text/plain": [
       "<Figure size 720x432 with 1 Axes>"
      ]
     },
     "metadata": {
      "needs_background": "light"
     },
     "output_type": "display_data"
    }
   ],
   "source": [
    "data.floor_type.hist(figsize=(10, 6), grid=True);"
   ]
  },
  {
   "cell_type": "markdown",
   "metadata": {
    "id": "cW7LqRe92cn1"
   },
   "source": [
    "Тип этажа - созданная нами категориальная переменная, из гистограммы можно сказть, что тип этажей \"другой\" самый популярный, к нему относится не одно значение как с \"первым\" и \"последним этажом\", а срез значений"
   ]
  },
  {
   "cell_type": "code",
   "execution_count": 50,
   "metadata": {
    "colab": {
     "base_uri": "https://localhost:8080/"
    },
    "id": "94l7Oscn2aKW",
    "outputId": "52ab2a6f-6dfb-44b6-ac07-5760408e43f8"
   },
   "outputs": [
    {
     "data": {
      "text/plain": [
       "count              23,402.00\n",
       "mean                   10.71\n",
       "std                     6.60\n",
       "min                     1.00\n",
       "25%                     5.00\n",
       "50%                     9.00\n",
       "75%                    16.00\n",
       "max                    60.00\n",
       "Name: floors_total, dtype: float64"
      ]
     },
     "execution_count": 50,
     "metadata": {},
     "output_type": "execute_result"
    }
   ],
   "source": [
    "data['floors_total'].describe()"
   ]
  },
  {
   "cell_type": "code",
   "execution_count": 51,
   "metadata": {
    "colab": {
     "base_uri": "https://localhost:8080/",
     "height": 374
    },
    "id": "CVDgRE8s2eyW",
    "outputId": "162922b0-c284-4f27-d4c0-e041fba79529"
   },
   "outputs": [
    {
     "data": {
      "image/png": "[encoded data removed]",
      "text/plain": [
       "<Figure size 720x432 with 1 Axes>"
      ]
     },
     "metadata": {
      "needs_background": "light"
     },
     "output_type": "display_data"
    }
   ],
   "source": [
    "data.plot(y='floors_total', kind='hist', figsize=(10, 6), grid=True, bins= 1 + int(np.log2(len(data))));"
   ]
  },
  {
   "cell_type": "markdown",
   "metadata": {
    "id": "LSEIp_bX2jEI"
   },
   "source": [
    "Из гистограммы видно, что есть и частные дома, ведь всего этажей 1, так и небоскребы (60 этажей), но в основном продают в 9-тиэтажках"
   ]
  },
  {
   "cell_type": "code",
   "execution_count": 52,
   "metadata": {
    "colab": {
     "base_uri": "https://localhost:8080/"
    },
    "id": "K5rEWK0r2gtc",
    "outputId": "0581a945-acc9-4ee4-aac2-f53682cfc66b"
   },
   "outputs": [
    {
     "data": {
      "text/plain": [
       "count              18,006.00\n",
       "mean               14,247.89\n",
       "std                 8,598.10\n",
       "min                   181.00\n",
       "25%                 9,356.00\n",
       "50%                13,142.00\n",
       "75%                16,316.75\n",
       "max                65,968.00\n",
       "Name: city_centers_nearest, dtype: float64"
      ]
     },
     "execution_count": 52,
     "metadata": {},
     "output_type": "execute_result"
    }
   ],
   "source": [
    "data['city_centers_nearest'].describe()"
   ]
  },
  {
   "cell_type": "code",
   "execution_count": 53,
   "metadata": {
    "colab": {
     "base_uri": "https://localhost:8080/",
     "height": 374
    },
    "id": "_EGfwkUF23O3",
    "outputId": "afb8509b-4333-40c9-d3c4-5c5b5269bf6f"
   },
   "outputs": [
    {
     "data": {
      "image/png": "[encoded data removed]",
      "text/plain": [
       "<Figure size 720x432 with 1 Axes>"
      ]
     },
     "metadata": {
      "needs_background": "light"
     },
     "output_type": "display_data"
    }
   ],
   "source": [
    "data.plot(y='city_centers_nearest', kind='hist', figsize=(10, 6), grid=True, bins= 1 + int(np.log2(len(data))));"
   ]
  },
  {
   "cell_type": "markdown",
   "metadata": {
    "id": "lmY1dgd327DV"
   },
   "source": [
    "Из гистограммы видно, что до цетра города в основном 13 км"
   ]
  },
  {
   "cell_type": "code",
   "execution_count": 54,
   "metadata": {
    "colab": {
     "base_uri": "https://localhost:8080/"
    },
    "id": "lkOIzwuN25BF",
    "outputId": "c2e78d1c-5e76-4307-fa1b-b0081621ed9e"
   },
   "outputs": [
    {
     "data": {
      "text/plain": [
       "count              17,986.00\n",
       "mean               28,821.29\n",
       "std                12,659.22\n",
       "min                 6,450.00\n",
       "25%                18,551.00\n",
       "50%                26,773.00\n",
       "75%                37,347.75\n",
       "max                84,869.00\n",
       "Name: airports_nearest, dtype: float64"
      ]
     },
     "execution_count": 54,
     "metadata": {},
     "output_type": "execute_result"
    }
   ],
   "source": [
    "data['airports_nearest'].describe()"
   ]
  },
  {
   "cell_type": "code",
   "execution_count": 55,
   "metadata": {
    "colab": {
     "base_uri": "https://localhost:8080/",
     "height": 374
    },
    "id": "D5zigECs2__k",
    "outputId": "7eb7ba63-b571-46c7-f902-5ff0c19b9836"
   },
   "outputs": [
    {
     "data": {
      "image/png": "[encoded data removed]",
      "text/plain": [
       "<Figure size 720x432 with 1 Axes>"
      ]
     },
     "metadata": {
      "needs_background": "light"
     },
     "output_type": "display_data"
    }
   ],
   "source": [
    "data.plot(y='airports_nearest', kind='hist', figsize=(10, 6), grid=True, bins= 1 + int(np.log2(len(data))));"
   ]
  },
  {
   "cell_type": "markdown",
   "metadata": {
    "id": "W408P8m53EVh"
   },
   "source": [
    "Минимальное расстояние до аэропорта ~7 км, а максимальное 80 км, что поддается объяснению. В первом случае квартира в пригороде недалеко от аэропорта, а в последнем где-то далеко от Санкт-Петербурга и от аэропорта тоже"
   ]
  },
  {
   "cell_type": "code",
   "execution_count": 56,
   "metadata": {
    "colab": {
     "base_uri": "https://localhost:8080/"
    },
    "id": "Bz1Q9UY33B4x",
    "outputId": "8149886d-fa13-4ff1-f038-a6dfbe0a96c5"
   },
   "outputs": [
    {
     "data": {
      "text/plain": [
       "count               7,957.00\n",
       "mean                  491.32\n",
       "std                   342.97\n",
       "min                     1.00\n",
       "25%                   288.00\n",
       "50%                   455.00\n",
       "75%                   613.00\n",
       "max                 3,190.00\n",
       "Name: parks_nearest, dtype: float64"
      ]
     },
     "execution_count": 56,
     "metadata": {},
     "output_type": "execute_result"
    }
   ],
   "source": [
    "data['parks_nearest'].describe()"
   ]
  },
  {
   "cell_type": "code",
   "execution_count": 57,
   "metadata": {
    "colab": {
     "base_uri": "https://localhost:8080/",
     "height": 374
    },
    "id": "ptNBLJSd3Gmo",
    "outputId": "c6c6cd7c-5212-41b0-cbba-36a9f901f638"
   },
   "outputs": [
    {
     "data": {
      "image/png": "[encoded data removed]",
      "text/plain": [
       "<Figure size 720x432 with 1 Axes>"
      ]
     },
     "metadata": {
      "needs_background": "light"
     },
     "output_type": "display_data"
    }
   ],
   "source": [
    "data.plot(y='parks_nearest', kind='hist', figsize=(10, 6), grid=True, bins= 1 + int(np.log2(len(data))));"
   ]
  },
  {
   "cell_type": "markdown",
   "metadata": {
    "id": "Tlen6DOk3Kf7"
   },
   "source": [
    "Минимум в этом столбце говорит о том, что около дома есть парк, среднее расстояние в 500 м говорит о том, что в Санкт-петербурге много парков с:"
   ]
  },
  {
   "cell_type": "code",
   "execution_count": 58,
   "metadata": {
    "colab": {
     "base_uri": "https://localhost:8080/",
     "height": 301
    },
    "id": "SfDBmkFJ3IRP",
    "outputId": "3e4bbb3f-cd7b-4c27-a2c3-856bc4c03454"
   },
   "outputs": [
    {
     "data": {
      "text/html": [
       "<div>\n",
       "<style scoped>\n",
       "    .dataframe tbody tr th:only-of-type {\n",
       "        vertical-align: middle;\n",
       "    }\n",
       "\n",
       "    .dataframe tbody tr th {\n",
       "        vertical-align: top;\n",
       "    }\n",
       "\n",
       "    .dataframe thead th {\n",
       "        text-align: right;\n",
       "    }\n",
       "</style>\n",
       "<table border=\"1\" class=\"dataframe\">\n",
       "  <thead>\n",
       "    <tr style=\"text-align: right;\">\n",
       "      <th></th>\n",
       "      <th>publication_day</th>\n",
       "      <th>publication_month</th>\n",
       "    </tr>\n",
       "  </thead>\n",
       "  <tbody>\n",
       "    <tr>\n",
       "      <th>count</th>\n",
       "      <td>23,488.00</td>\n",
       "      <td>23,488.00</td>\n",
       "    </tr>\n",
       "    <tr>\n",
       "      <th>mean</th>\n",
       "      <td>2.57</td>\n",
       "      <td>6.40</td>\n",
       "    </tr>\n",
       "    <tr>\n",
       "      <th>std</th>\n",
       "      <td>1.79</td>\n",
       "      <td>3.49</td>\n",
       "    </tr>\n",
       "    <tr>\n",
       "      <th>min</th>\n",
       "      <td>0.00</td>\n",
       "      <td>1.00</td>\n",
       "    </tr>\n",
       "    <tr>\n",
       "      <th>25%</th>\n",
       "      <td>1.00</td>\n",
       "      <td>3.00</td>\n",
       "    </tr>\n",
       "    <tr>\n",
       "      <th>50%</th>\n",
       "      <td>3.00</td>\n",
       "      <td>6.00</td>\n",
       "    </tr>\n",
       "    <tr>\n",
       "      <th>75%</th>\n",
       "      <td>4.00</td>\n",
       "      <td>10.00</td>\n",
       "    </tr>\n",
       "    <tr>\n",
       "      <th>max</th>\n",
       "      <td>6.00</td>\n",
       "      <td>12.00</td>\n",
       "    </tr>\n",
       "  </tbody>\n",
       "</table>\n",
       "</div>"
      ],
      "text/plain": [
       "           publication_day    publication_month\n",
       "count            23,488.00            23,488.00\n",
       "mean                  2.57                 6.40\n",
       "std                   1.79                 3.49\n",
       "min                   0.00                 1.00\n",
       "25%                   1.00                 3.00\n",
       "50%                   3.00                 6.00\n",
       "75%                   4.00                10.00\n",
       "max                   6.00                12.00"
      ]
     },
     "execution_count": 58,
     "metadata": {},
     "output_type": "execute_result"
    }
   ],
   "source": [
    "data[['publication_day', 'publication_month']].describe()"
   ]
  },
  {
   "cell_type": "code",
   "execution_count": 59,
   "metadata": {
    "colab": {
     "base_uri": "https://localhost:8080/",
     "height": 374
    },
    "id": "1v9JEpO73SWW",
    "outputId": "cc835998-7db0-45f4-b573-ea1987c6d925"
   },
   "outputs": [
    {
     "data": {
      "image/png": "[encoded data removed]",
      "text/plain": [
       "<Figure size 720x432 with 1 Axes>"
      ]
     },
     "metadata": {
      "needs_background": "light"
     },
     "output_type": "display_data"
    }
   ],
   "source": [
    "data.plot(y='publication_day', kind='hist', figsize=(10, 6), grid=True, bins=14);"
   ]
  },
  {
   "cell_type": "markdown",
   "metadata": {
    "id": "bnmEiX9t3YLM"
   },
   "source": [
    "Чаще всего объявления публикуют в четверг и понедельник, а самый неактивный день - воскресение"
   ]
  },
  {
   "cell_type": "code",
   "execution_count": 60,
   "metadata": {
    "colab": {
     "base_uri": "https://localhost:8080/",
     "height": 374
    },
    "id": "JSmPAv663Uol",
    "outputId": "b7154af5-e978-498e-fee2-36f316783aca"
   },
   "outputs": [
    {
     "data": {
      "image/png": "[encoded data removed]",
      "text/plain": [
       "<Figure size 720x432 with 1 Axes>"
      ]
     },
     "metadata": {
      "needs_background": "light"
     },
     "output_type": "display_data"
    }
   ],
   "source": [
    "data.plot(y='publication_month', kind='hist', figsize=(10, 6), grid=True, bins=24);"
   ]
  },
  {
   "cell_type": "markdown",
   "metadata": {
    "id": "MQY2_aRB3oiu"
   },
   "source": [
    "Самый популярный месяц для публикаций - февраль, в мае наоборот меньше всего опубликованных данных"
   ]
  },
  {
   "cell_type": "markdown",
   "metadata": {},
   "source": [
    "<div class=\"alert alert-success\">\n",
    "<b>✔️ Комментарий ревьюера v2:</b> \n",
    "<br>Ты корректно подбираешь основные диапазоны, а также верно читаешь графики! \n",
    "</div>\n",
    "\n",
    "<div class=\"alert alert-warning\">\n",
    "<b>⚠️ Комментарий ревьюера v2:</b> \n",
    "<br>Для того чтобы подписать график мы можем использовать метод plt.title() и в конце кода применить plt.show(). По ссылкам ниже можно почитать подробнее как добавить название для графика или подписать его оси\n",
    "    \n",
    "    https://pyprog.pro/mpl/mpl_title.html\n",
    "    https://pyprog.pro/mpl/mpl_axis_signatures.html \n",
    "</div>"
   ]
  },
  {
   "cell_type": "markdown",
   "metadata": {
    "id": "c9FJ8_F13z-W"
   },
   "source": [
    "### 4.2. Изучите, как быстро продавались квартиры (столбец days_exposition). Этот параметр показывает, сколько дней было размещено каждое объявление.\n",
    "\n",
    "Постройте гистограмму.\n",
    "\n",
    "Посчитайте среднее и медиану.\n",
    "\n",
    "В ячейке типа markdown опишите, сколько времени обычно занимает продажа. Какие продажи можно считать быстрыми, а какие — необычно долгими?"
   ]
  },
  {
   "cell_type": "code",
   "execution_count": 61,
   "metadata": {
    "colab": {
     "base_uri": "https://localhost:8080/"
    },
    "id": "ZC_Lg_ao3k5D",
    "outputId": "661766a4-c053-42ec-ae82-f0c9f0b239bd"
   },
   "outputs": [
    {
     "data": {
      "text/plain": [
       "count              20,343.00\n",
       "mean                  180.26\n",
       "std                   219.13\n",
       "min                     1.00\n",
       "25%                    45.00\n",
       "50%                    95.00\n",
       "75%                   231.00\n",
       "max                 1,580.00\n",
       "Name: days_exposition, dtype: float64"
      ]
     },
     "execution_count": 61,
     "metadata": {},
     "output_type": "execute_result"
    }
   ],
   "source": [
    "data.days_exposition.describe()"
   ]
  },
  {
   "cell_type": "code",
   "execution_count": 62,
   "metadata": {
    "colab": {
     "base_uri": "https://localhost:8080/",
     "height": 266
    },
    "id": "TPEE3KXX4AO6",
    "outputId": "88b01c15-3e37-46e1-f8c8-66e3fdd262d2"
   },
   "outputs": [
    {
     "data": {
      "image/png": "[encoded data removed]",
      "text/plain": [
       "<Figure size 432x288 with 1 Axes>"
      ]
     },
     "metadata": {
      "needs_background": "light"
     },
     "output_type": "display_data"
    }
   ],
   "source": [
    "data.boxplot(column='days_exposition');"
   ]
  },
  {
   "cell_type": "code",
   "execution_count": 63,
   "metadata": {
    "colab": {
     "base_uri": "https://localhost:8080/",
     "height": 374
    },
    "id": "dbVaCcZ04DUP",
    "outputId": "3059e86d-0814-4651-eadd-21aef44c5795"
   },
   "outputs": [
    {
     "data": {
      "image/png": "[encoded data removed]",
      "text/plain": [
       "<Figure size 720x432 with 1 Axes>"
      ]
     },
     "metadata": {
      "needs_background": "light"
     },
     "output_type": "display_data"
    }
   ],
   "source": [
    "data.plot(y='days_exposition', kind='hist',figsize=(10, 6), grid=True, bins=50);"
   ]
  },
  {
   "cell_type": "markdown",
   "metadata": {
    "id": "-noNWfs04Jj1"
   },
   "source": [
    "В среднем квартиры продавались за 180 дней, медианным значением является 95 дней. Условно можно считать, что быстрые продажи те, которые завершились раньше среднего значения, а медленные те, что после. Необычно долгие те, которые не завершились 500 дней."
   ]
  },
  {
   "cell_type": "markdown",
   "metadata": {},
   "source": [
    "<div class=\"alert alert-success\">\n",
    "<b>✔️ Комментарий ревьюера v2:</b> \n",
    "<br>Согласен! Если интересно, то можно посмотреть на диапазон от 0 до 100 дней. Там есть пики, которым можно найти очень логичное объяснение</div>\n",
    "</div>"
   ]
  },
  {
   "cell_type": "markdown",
   "metadata": {
    "id": "XmYIfASv4fOX"
   },
   "source": [
    "### 4.3. Какие факторы больше всего влияют на общую (полную) стоимость объекта?\n",
    "Изучите, зависит ли цена от:\n",
    "\n",
    "общей площади;\n",
    "\n",
    "жилой площади;\n",
    "\n",
    "площади кухни;\n",
    "\n",
    "количества комнат;\n",
    "\n",
    "этажа, на котором расположена квартира (первый, последний, другой);\n",
    "\n",
    "даты размещения (день недели, месяц, год).\n",
    "\n",
    "Постройте графики, которые покажут зависимость цены от указанных выше параметров. Для подготовки данных перед визуализацией вы можете использовать сводные таблицы."
   ]
  },
  {
   "cell_type": "code",
   "execution_count": 64,
   "metadata": {
    "id": "8uY8zB2K4FU3"
   },
   "outputs": [],
   "source": [
    "# Создадим новый столбец для нахождения корреляции между типом этажа и ценой\n",
    "dict_floor = {'Первый': 0, 'Другой': 1, 'Последний': 2}"
   ]
  },
  {
   "cell_type": "code",
   "execution_count": 65,
   "metadata": {
    "id": "LYr0u0mX4qb0"
   },
   "outputs": [],
   "source": [
    "data['floor_type_number'] = data.floor_type.apply(lambda x: dict_floor[x])"
   ]
  },
  {
   "cell_type": "code",
   "execution_count": 66,
   "metadata": {
    "colab": {
     "base_uri": "https://localhost:8080/"
    },
    "id": "wJeteuSA4yBw",
    "outputId": "5d12a56f-67e2-4d88-f044-1a7282093871"
   },
   "outputs": [
    {
     "name": "stdout",
     "output_type": "stream",
     "text": [
      "Корреляция между ценой (last_price) и total_area = 0.77\n",
      "Корреляция между ценой (last_price) и living_area = 0.67\n",
      "Корреляция между ценой (last_price) и kitchen_area = 0.59\n",
      "Корреляция между ценой (last_price) и rooms = 0.47\n",
      "Корреляция между ценой (last_price) и floor_type_number = 0.06\n",
      "Корреляция между ценой (last_price) и publication_day = -0.01\n",
      "Корреляция между ценой (last_price) и publication_month = 0.01\n",
      "Корреляция между ценой (last_price) и publication_year = -0.05\n"
     ]
    }
   ],
   "source": [
    "# Найдем корреляцию между параметрами и last_price\n",
    "corr_list = ['total_area', 'living_area', 'kitchen_area', 'rooms', 'floor_type_number']\n",
    "for parametrs in corr_list:\n",
    "  correlation = data['last_price'].corr(data[parametrs])\n",
    "  print(f'Корреляция между ценой (last_price) и {parametrs} = {round(correlation, 2)}')"
   ]
  },
  {
   "cell_type": "markdown",
   "metadata": {},
   "source": [
    "<div class=\"alert alert-warning\">\n",
    "<b>⚠️ Комментарий ревьюера v2:</b> \n",
    "<br>Рассчитывать корреляцию Пирсона для категории этажа, дня недели, месяца и года продажи не эффективно, так как цена в данном случае зависит от них не линейно. Чтобы изучить зависимость для этих параметров лучше построить bar plot или гистограмму рассчитав среднее значение или медиану. Графики у тебя уже есть, поэтому лучше удалить расчет корреляции)\n",
    "</div>"
   ]
  },
  {
   "cell_type": "code",
   "execution_count": 67,
   "metadata": {
    "colab": {
     "base_uri": "https://localhost:8080/",
     "height": 389
    },
    "id": "BBpT4FWs40ji",
    "outputId": "1879a541-9fb9-421a-b5be-cb5c5696fd62"
   },
   "outputs": [
    {
     "data": {
      "image/png": "[encoded data removed]",
      "text/plain": [
       "<Figure size 720x432 with 1 Axes>"
      ]
     },
     "metadata": {
      "needs_background": "light"
     },
     "output_type": "display_data"
    }
   ],
   "source": [
    "data.plot(x='last_price', y='total_area', kind='scatter', alpha=0.5, figsize=(10,6));"
   ]
  },
  {
   "cell_type": "code",
   "execution_count": 68,
   "metadata": {
    "colab": {
     "base_uri": "https://localhost:8080/",
     "height": 389
    },
    "id": "l2cu82VD43nm",
    "outputId": "d52a6e99-1cdd-41c2-eac0-315d14ccad33"
   },
   "outputs": [
    {
     "data": {
      "image/png": "[encoded data removed]",
      "text/plain": [
       "<Figure size 720x432 with 1 Axes>"
      ]
     },
     "metadata": {
      "needs_background": "light"
     },
     "output_type": "display_data"
    }
   ],
   "source": [
    "data.plot(x='last_price', y='living_area', kind='scatter', alpha=0.5, figsize=(10,6));"
   ]
  },
  {
   "cell_type": "code",
   "execution_count": 69,
   "metadata": {
    "colab": {
     "base_uri": "https://localhost:8080/",
     "height": 389
    },
    "id": "6BtLffD745mA",
    "outputId": "26346a2a-2eb8-42d0-9e4a-bf27eb989a15"
   },
   "outputs": [
    {
     "data": {
      "image/png": "[encoded data removed]",
      "text/plain": [
       "<Figure size 720x432 with 1 Axes>"
      ]
     },
     "metadata": {
      "needs_background": "light"
     },
     "output_type": "display_data"
    }
   ],
   "source": [
    "data.plot(x='last_price', y='kitchen_area', kind='scatter', alpha=0.5, figsize=(10,6));"
   ]
  },
  {
   "cell_type": "code",
   "execution_count": 70,
   "metadata": {
    "colab": {
     "base_uri": "https://localhost:8080/",
     "height": 395
    },
    "id": "lpmgKm2u48RV",
    "outputId": "1bb69e91-c47f-448a-ebcb-03a7354ebb2a"
   },
   "outputs": [
    {
     "data": {
      "image/png": "[encoded data removed]",
      "text/plain": [
       "<Figure size 720x432 with 1 Axes>"
      ]
     },
     "metadata": {
      "needs_background": "light"
     },
     "output_type": "display_data"
    }
   ],
   "source": [
    "data.pivot_table(index='rooms',values='last_price').plot(y='last_price', kind='bar', figsize=(10, 6));"
   ]
  },
  {
   "cell_type": "code",
   "execution_count": 71,
   "metadata": {
    "colab": {
     "base_uri": "https://localhost:8080/",
     "height": 278
    },
    "id": "HUBbSJyb4-Zm",
    "outputId": "6f973950-a942-4ccf-c9c4-5237909e1251"
   },
   "outputs": [
    {
     "data": {
      "image/png": "[encoded data removed]",
      "text/plain": [
       "<Figure size 432x288 with 1 Axes>"
      ]
     },
     "metadata": {
      "needs_background": "light"
     },
     "output_type": "display_data"
    }
   ],
   "source": [
    "data.pivot_table(index='floor_type',values='last_price').plot(y='last_price', kind='barh');"
   ]
  },
  {
   "cell_type": "code",
   "execution_count": 72,
   "metadata": {
    "colab": {
     "base_uri": "https://localhost:8080/",
     "height": 400
    },
    "id": "ChspnzE45Ebn",
    "outputId": "9846d3ab-3753-453f-975d-bfbd487e2f92"
   },
   "outputs": [
    {
     "data": {
      "image/png": "[encoded data removed]",
      "text/plain": [
       "<Figure size 720x432 with 1 Axes>"
      ]
     },
     "metadata": {
      "needs_background": "light"
     },
     "output_type": "display_data"
    }
   ],
   "source": [
    "data.pivot_table(index='publication_day', values='last_price', aggfunc='median').plot(y='last_price', kind='line', figsize=(10,6));"
   ]
  },
  {
   "cell_type": "code",
   "execution_count": 73,
   "metadata": {
    "colab": {
     "base_uri": "https://localhost:8080/",
     "height": 400
    },
    "id": "3vuB6Uqh5HTZ",
    "outputId": "8012a4a5-325f-403d-e8e5-848c0b70730d"
   },
   "outputs": [
    {
     "data": {
      "image/png": "[encoded data removed]",
      "text/plain": [
       "<Figure size 720x432 with 1 Axes>"
      ]
     },
     "metadata": {
      "needs_background": "light"
     },
     "output_type": "display_data"
    }
   ],
   "source": [
    "data.pivot_table(index='publication_month', values='last_price', aggfunc='median').plot(y='last_price', kind='line', figsize=(10,6));"
   ]
  },
  {
   "cell_type": "code",
   "execution_count": 74,
   "metadata": {
    "colab": {
     "base_uri": "https://localhost:8080/",
     "height": 400
    },
    "id": "uSs4NepH5JUr",
    "outputId": "dca9b96a-e8de-44f5-d471-5f40a13bd4e9"
   },
   "outputs": [
    {
     "data": {
      "image/png": "[encoded data removed]",
      "text/plain": [
       "<Figure size 720x432 with 1 Axes>"
      ]
     },
     "metadata": {
      "needs_background": "light"
     },
     "output_type": "display_data"
    }
   ],
   "source": [
    "data.pivot_table(index='publication_year', values='last_price', aggfunc='median').plot(y='last_price', kind='line', figsize=(10,6));"
   ]
  },
  {
   "cell_type": "markdown",
   "metadata": {
    "id": "m6z7_crn5OKW"
   },
   "source": [
    "Прямая линейная завсимость цены квартиры с:\n",
    "- общей площадью\n",
    "- жилой площадью\n",
    "- площадью кухни\n",
    "- количества комнат\n",
    "\n",
    "Практически нет зависимости цены от:\n",
    "- даты публикации обяъвления\n",
    "- этажа, на котром расположена квартира"
   ]
  },
  {
   "cell_type": "markdown",
   "metadata": {
    "id": "pVxD2jV05p33"
   },
   "source": [
    "В дополнение к исследованию построим таблицу корреляции призников"
   ]
  },
  {
   "cell_type": "code",
   "execution_count": 75,
   "metadata": {
    "colab": {
     "base_uri": "https://localhost:8080/",
     "height": 651
    },
    "id": "WwqdMnsE5Ltb",
    "outputId": "e538e0ea-6742-4cd1-f8c1-d85e9e2e5cff"
   },
   "outputs": [
    {
     "data": {
      "image/png": "[encoded data removed]",
      "text/plain": [
       "<Figure size 864x648 with 2 Axes>"
      ]
     },
     "metadata": {
      "needs_background": "light"
     },
     "output_type": "display_data"
    }
   ],
   "source": [
    "corr = data.corr(method=\"pearson\")\n",
    "\n",
    "# Create a mask to hide the upper triangle of the correlation matrix (which is symmetric)\n",
    "mask = np.zeros_like(corr, dtype=np.bool)\n",
    "mask[np.triu_indices_from(mask)] = True\n",
    "\n",
    "f, ax = plt.subplots(figsize=(12, 9));\n",
    "\n",
    "sns.heatmap(\n",
    "    corr,\n",
    "    mask=mask,\n",
    "    vmax=1,\n",
    "    center=0,\n",
    "    annot=True,\n",
    "    fmt=\".1f\",\n",
    "    square=True,\n",
    "    linewidths=0.5,\n",
    "    cbar_kws={\"shrink\": 0.5},\n",
    ");"
   ]
  },
  {
   "cell_type": "markdown",
   "metadata": {
    "id": "pOH5ze4v6Ccb"
   },
   "source": [
    "<div class=\"alert alert-danger\">\n",
    "<b>❌ Комментарий ревьюера v1:</b> \n",
    "<br>В разделе выше ты смешиваешь сразу 3 задания. Выполни их, пожалуйста, в той последовательности, в которой они идут в брифе к проекту.\n",
    "</div>"
   ]
  },
  {
   "cell_type": "markdown",
   "metadata": {},
   "source": [
    "<div class=\"alert alert-success\">\n",
    "<b>✔️ Комментарий ревьюера v2:</b>\n",
    "<br>Зависимость цены изучена верно! Ещё тут можно использовать для визуализации pairplot из библиотеки seaborn \n",
    "    \n",
    "    https://seaborn.pydata.org/generated/seaborn.pairplot.html\n",
    "</div>"
   ]
  },
  {
   "cell_type": "markdown",
   "metadata": {
    "id": "eQiK8ZbJ6IrD"
   },
   "source": [
    "### 4.4. Посчитаем среднюю цену одного квадратного метра в 10 населённых пунктах с наибольшим числом объявлений. Выдем населённые пункты с самой высокой и низкой стоимостью квадратного метра."
   ]
  },
  {
   "cell_type": "code",
   "execution_count": 76,
   "metadata": {
    "colab": {
     "base_uri": "https://localhost:8080/",
     "height": 374
    },
    "id": "I10-0iUN5d0i",
    "outputId": "7845786a-e6e9-4b21-fe94-e9f11c381183"
   },
   "outputs": [
    {
     "data": {
      "image/png": "[encoded data removed]",
      "text/plain": [
       "<Figure size 720x432 with 1 Axes>"
      ]
     },
     "metadata": {
      "needs_background": "light"
     },
     "output_type": "display_data"
    }
   ],
   "source": [
    "# Создаем сводную таблицу с названием населенных пунктов, средней ценой за квадратный метр и количеством объявлений\n",
    "top_10 = data.pivot_table(index='drop_dupl_locality_name', values='price_per_squre_m', aggfunc=['mean', 'count'])\n",
    "# Переименуем столбцы\n",
    "top_10.columns=['mean_price_per_sq_m', 'count_publications']\n",
    "# Отсортируем таблицу по самым популярным населенным пунктам по количеству публикаций\n",
    "top_10.sort_values(by='count_publications', ascending=False, inplace=True)\n",
    "# Удалим количество публикаций\n",
    "top_10.drop(columns='count_publications', inplace=True)\n",
    "top_10 = top_10[:10]\n",
    "top_10.sort_values(by='mean_price_per_sq_m', ascending=True).plot(kind='barh', figsize=(10, 6));"
   ]
  },
  {
   "cell_type": "markdown",
   "metadata": {
    "id": "VCAgajE36R5v"
   },
   "source": [
    "<div class=\"alert alert-danger\">\n",
    "<b>❌ Комментарий ревьюера v1:</b> \n",
    "<br>После того как ты выполнишь правку в шаге 2, результат может изменится\n",
    "</div>"
   ]
  },
  {
   "cell_type": "markdown",
   "metadata": {},
   "source": [
    "<div class=\"alert alert-success\">\n",
    "<b>✔️ Комментарий ревьюера v2:</b>\n",
    "<br>Правка выполнена 👍\n",
    "</div>"
   ]
  },
  {
   "cell_type": "markdown",
   "metadata": {
    "id": "hTjHWTwc6aYV"
   },
   "source": [
    "### 4.5. Выделим квартиры в Санкт-петербурге и найдем среднюю цену каждого километра"
   ]
  },
  {
   "cell_type": "code",
   "execution_count": 77,
   "metadata": {
    "colab": {
     "base_uri": "https://localhost:8080/",
     "height": 412
    },
    "id": "BahqN63q6OP0",
    "outputId": "f176db4b-4fce-46f4-db71-a0440e40ecd6"
   },
   "outputs": [
    {
     "data": {
      "image/png": "[encoded data removed]",
      "text/plain": [
       "<Figure size 720x432 with 1 Axes>"
      ]
     },
     "metadata": {
      "needs_background": "light"
     },
     "output_type": "display_data"
    }
   ],
   "source": [
    "(data[data['drop_dupl_locality_name'] == 'Санкт-Петербург']\n",
    " .pivot_table(index='city_centers_nearest_km', values='last_price', aggfunc='mean')\n",
    " .plot(kind='bar', figsize=(10, 6)));"
   ]
  },
  {
   "cell_type": "markdown",
   "metadata": {
    "id": "n04O90O86isa"
   },
   "source": [
    "Как видно из графика недвижимость до 2 километров стоит в среднем намного дороже, чем остальная недвижимость. \n",
    "\n",
    "От 3 до 7 км цена меньше, чем до 2 км, но все еще сравнима\n",
    "\n",
    "От 8 до 27 км цена сильно ниже, раза в 1.5\n",
    "\n",
    "Есть пик на 27 км, скорее всего там находится элитный район "
   ]
  },
  {
   "cell_type": "markdown",
   "metadata": {
    "id": "6t9mA4zO6jq8"
   },
   "source": [
    "<div class=\"alert alert-success\">\n",
    "<b>✔️ Комментарий ревьюера v1:</b>\n",
    "<br>Отличный анализ 👍\n",
    "</div>"
   ]
  },
  {
   "cell_type": "markdown",
   "metadata": {
    "id": "YHCzjnWH6n-P"
   },
   "source": [
    "# 5. Общий вывод"
   ]
  },
  {
   "cell_type": "markdown",
   "metadata": {
    "id": "PTHEpwnv6s8e"
   },
   "source": [
    "В ходе работы над проектом были проделаны следующие шаги:\n",
    "- очистка данных (удалены пропуски в 5 столбцах, удалены аномальные значения, изменены типы данных на более подходящие, удалены неявные дубликаты населенных пунктов)\n",
    "- добавление столбцов для последующего анализа\n",
    "- проведен исследовательский анализ данных (выяснили, что чаще всего продают 2-ухкомнатные квартиры, в 13 км от центра. Исследовали как быстро продаются квартиры, нашли границу между быстрыми, долгими и необычайно долгими продажами, 180 и 500 дней, соответственно)\n",
    "- нашли какие факторы влияют на стоимость квартиры (площадь и количество комнат)\n",
    "- вывели 10 популярных населенных пунктов по убыванию стоимости квадратного метра\n",
    "- узнали как стоимость зависит от расстояния до центра города\n",
    "\n",
    "В дальнейшем хорошо было бы узнать откуда пик в цене на 27 км от центра города"
   ]
  },
  {
   "cell_type": "markdown",
   "metadata": {
    "id": "scTaDii76t7S"
   },
   "source": [
    "<div class=\"alert alert-danger\">\n",
    "<b>❌ Комментарий ревьюера v1:</b> \n",
    "<br>Давай немного увеличим объем вывода, чтобы он получится более подробным. Хорошей практикой является написание в общем выводе всех твоих действий (кратко) по проекту. А после этого нужно написать общий вывод использую информацию из промежуточных выводов после каждого раздела. Твой вывод раскрывает для заказчика всю твою проделанную работу и за что он платит деньги, даже если ему не интересен весь процесс исследования, то в отчёт он заглянет обязательно. \n",
    "</div>"
   ]
  },
  {
   "cell_type": "markdown",
   "metadata": {},
   "source": [
    "<div class=\"alert alert-success\">\n",
    "<b>✔️ Комментарий ревьюера v2:</b>\n",
    "<br>Правка выполнена 👍\n",
    "</div>"
   ]
  },
  {
   "cell_type": "markdown",
   "metadata": {
    "id": "2na-Nt7z6wZ0"
   },
   "source": [
    "<div class=\"alert alert-danger\">\n",
    "<b>❌ Комментарий ревьюера v1:</b> \n",
    "<br>После всех внесённых правок, обязательно перепроверь общий вывод и промежуточные выводы и поправь их по необходимости\n",
    "</div>"
   ]
  },
  {
   "cell_type": "markdown",
   "metadata": {
    "id": "kkR-fuBM601m"
   },
   "source": [
    "<div class=\"alert alert-danger\">\n",
    "<b>❌ Итоговый комментарий ревьюера v1:</b> \n",
    "<br>Ты хорошо потрудилась, большая часть работы сделана, но остаётся внести следующие правки:\n",
    "<br>- вывести всю таблицу\t\n",
    "<br>- написать короткий вывод после первичного просмотра данных\n",
    "<br>- заполнить пропуски в столбце ceiling_height\n",
    "<br>- поправить границы для аномальных значений\n",
    "<br>- разделить задания 4.1, 4.2, 4.3\n",
    "<br>- дописать общий вывод\n",
    "<br>- поправить выводы там, где это необходимо\n",
    "</div>"
   ]
  },
  {
   "cell_type": "markdown",
   "metadata": {},
   "source": [
    "<div class=\"alert alert-success\">\n",
    "<b>✔️ Итоговый комментарий ревьюера v2:</b>\n",
    "<br>Все правки выполнены. Молодец!\n",
    "<br>Я рад был поработать над проверкой твоей работы) В качестве дополнительного материала для изучения могу порекомендовать следующий ресурс:\n",
    "\n",
    "\thttps://www.python-graph-gallery.com/\n",
    "<br>В нем содержится большая библиотека графиков с готовым кодом, который можно использовать при работе.\n",
    "<br>Поздравляю со сдачей проекта и желаю удачи в дальнейшем обучении! 😉    \n",
    "</div>"
   ]
  }
 ],
 "metadata": {
  "ExecuteTimeLog": [
   {
    "duration": 1175,
    "start_time": "2022-12-07T05:45:25.441Z"
   },
   {
    "duration": 207,
    "start_time": "2022-12-07T05:45:26.617Z"
   },
   {
    "duration": 14,
    "start_time": "2022-12-07T05:45:26.825Z"
   },
   {
    "duration": 81,
    "start_time": "2022-12-07T05:45:26.841Z"
   },
   {
    "duration": 23,
    "start_time": "2022-12-07T05:45:26.923Z"
   },
   {
    "duration": 1805,
    "start_time": "2022-12-07T05:45:26.947Z"
   },
   {
    "duration": 3,
    "start_time": "2022-12-07T05:45:28.753Z"
   },
   {
    "duration": 20,
    "start_time": "2022-12-07T05:45:28.758Z"
   },
   {
    "duration": 5,
    "start_time": "2022-12-07T05:45:28.779Z"
   },
   {
    "duration": 16,
    "start_time": "2022-12-07T05:45:28.787Z"
   },
   {
    "duration": 8,
    "start_time": "2022-12-07T05:45:28.805Z"
   },
   {
    "duration": 13,
    "start_time": "2022-12-07T05:45:28.814Z"
   },
   {
    "duration": 5,
    "start_time": "2022-12-07T05:45:28.828Z"
   },
   {
    "duration": 15,
    "start_time": "2022-12-07T05:45:28.834Z"
   },
   {
    "duration": 15,
    "start_time": "2022-12-07T05:45:28.850Z"
   },
   {
    "duration": 5,
    "start_time": "2022-12-07T05:45:28.867Z"
   },
   {
    "duration": 58,
    "start_time": "2022-12-07T05:45:28.874Z"
   },
   {
    "duration": 21,
    "start_time": "2022-12-07T05:45:28.934Z"
   },
   {
    "duration": 12,
    "start_time": "2022-12-07T05:45:28.957Z"
   },
   {
    "duration": 17,
    "start_time": "2022-12-07T05:45:28.970Z"
   },
   {
    "duration": 6,
    "start_time": "2022-12-07T05:45:28.988Z"
   },
   {
    "duration": 9,
    "start_time": "2022-12-07T05:45:29.021Z"
   },
   {
    "duration": 4,
    "start_time": "2022-12-07T05:45:29.032Z"
   },
   {
    "duration": 14,
    "start_time": "2022-12-07T05:45:29.037Z"
   },
   {
    "duration": 13,
    "start_time": "2022-12-07T05:45:29.053Z"
   },
   {
    "duration": 3,
    "start_time": "2022-12-07T05:45:29.068Z"
   },
   {
    "duration": 21,
    "start_time": "2022-12-07T05:45:29.073Z"
   },
   {
    "duration": 3,
    "start_time": "2022-12-07T05:45:29.098Z"
   },
   {
    "duration": 23,
    "start_time": "2022-12-07T05:45:29.102Z"
   },
   {
    "duration": 25,
    "start_time": "2022-12-07T05:45:29.126Z"
   },
   {
    "duration": 3,
    "start_time": "2022-12-07T05:45:29.153Z"
   },
   {
    "duration": 289,
    "start_time": "2022-12-07T05:45:29.157Z"
   },
   {
    "duration": 24,
    "start_time": "2022-12-07T05:45:29.447Z"
   },
   {
    "duration": 8,
    "start_time": "2022-12-07T05:45:29.473Z"
   },
   {
    "duration": 195,
    "start_time": "2022-12-07T05:45:29.482Z"
   },
   {
    "duration": 9,
    "start_time": "2022-12-07T05:45:29.678Z"
   },
   {
    "duration": 196,
    "start_time": "2022-12-07T05:45:29.689Z"
   },
   {
    "duration": 9,
    "start_time": "2022-12-07T05:45:29.886Z"
   },
   {
    "duration": 212,
    "start_time": "2022-12-07T05:45:29.896Z"
   },
   {
    "duration": 14,
    "start_time": "2022-12-07T05:45:30.109Z"
   },
   {
    "duration": 939,
    "start_time": "2022-12-07T05:45:30.125Z"
   },
   {
    "duration": 9,
    "start_time": "2022-12-07T05:45:31.065Z"
   },
   {
    "duration": 222,
    "start_time": "2022-12-07T05:45:31.076Z"
   },
   {
    "duration": 9,
    "start_time": "2022-12-07T05:45:31.300Z"
   },
   {
    "duration": 200,
    "start_time": "2022-12-07T05:45:31.310Z"
   },
   {
    "duration": 11,
    "start_time": "2022-12-07T05:45:31.512Z"
   },
   {
    "duration": 204,
    "start_time": "2022-12-07T05:45:31.524Z"
   },
   {
    "duration": 10,
    "start_time": "2022-12-07T05:45:31.729Z"
   },
   {
    "duration": 164,
    "start_time": "2022-12-07T05:45:31.740Z"
   },
   {
    "duration": 10,
    "start_time": "2022-12-07T05:45:31.905Z"
   },
   {
    "duration": 223,
    "start_time": "2022-12-07T05:45:31.922Z"
   },
   {
    "duration": 9,
    "start_time": "2022-12-07T05:45:32.146Z"
   },
   {
    "duration": 166,
    "start_time": "2022-12-07T05:45:32.156Z"
   },
   {
    "duration": 7,
    "start_time": "2022-12-07T05:45:32.324Z"
   },
   {
    "duration": 261,
    "start_time": "2022-12-07T05:45:32.333Z"
   },
   {
    "duration": 9,
    "start_time": "2022-12-07T05:45:32.596Z"
   },
   {
    "duration": 227,
    "start_time": "2022-12-07T05:45:32.606Z"
   },
   {
    "duration": 21,
    "start_time": "2022-12-07T05:45:32.835Z"
   },
   {
    "duration": 232,
    "start_time": "2022-12-07T05:45:32.857Z"
   },
   {
    "duration": 167,
    "start_time": "2022-12-07T05:45:33.091Z"
   },
   {
    "duration": 9,
    "start_time": "2022-12-07T05:45:33.259Z"
   },
   {
    "duration": 121,
    "start_time": "2022-12-07T05:45:33.270Z"
   },
   {
    "duration": 253,
    "start_time": "2022-12-07T05:45:33.393Z"
   },
   {
    "duration": 2,
    "start_time": "2022-12-07T05:45:33.648Z"
   },
   {
    "duration": 24,
    "start_time": "2022-12-07T05:45:33.652Z"
   },
   {
    "duration": 28,
    "start_time": "2022-12-07T05:45:33.678Z"
   },
   {
    "duration": 205,
    "start_time": "2022-12-07T05:45:33.707Z"
   },
   {
    "duration": 200,
    "start_time": "2022-12-07T05:45:33.913Z"
   },
   {
    "duration": 197,
    "start_time": "2022-12-07T05:45:34.115Z"
   },
   {
    "duration": 158,
    "start_time": "2022-12-07T05:45:34.314Z"
   },
   {
    "duration": 207,
    "start_time": "2022-12-07T05:45:34.474Z"
   },
   {
    "duration": 163,
    "start_time": "2022-12-07T05:45:34.683Z"
   },
   {
    "duration": 155,
    "start_time": "2022-12-07T05:45:34.848Z"
   },
   {
    "duration": 148,
    "start_time": "2022-12-07T05:45:35.005Z"
   },
   {
    "duration": 2203,
    "start_time": "2022-12-07T05:45:35.155Z"
   },
   {
    "duration": 184,
    "start_time": "2022-12-07T05:45:37.360Z"
   },
   {
    "duration": 268,
    "start_time": "2022-12-07T05:45:37.545Z"
   },
   {
    "duration": 1041,
    "start_time": "2022-12-07T05:45:50.777Z"
   },
   {
    "duration": 526,
    "start_time": "2022-12-07T05:45:51.820Z"
   },
   {
    "duration": 15,
    "start_time": "2022-12-07T05:45:52.348Z"
   },
   {
    "duration": 76,
    "start_time": "2022-12-07T05:45:52.365Z"
   },
   {
    "duration": 27,
    "start_time": "2022-12-07T05:45:52.442Z"
   },
   {
    "duration": 1905,
    "start_time": "2022-12-07T05:45:52.471Z"
   },
   {
    "duration": 4,
    "start_time": "2022-12-07T05:45:54.378Z"
   },
   {
    "duration": 134,
    "start_time": "2022-12-07T05:45:54.383Z"
   },
   {
    "duration": 11,
    "start_time": "2022-12-07T05:45:54.519Z"
   },
   {
    "duration": 49,
    "start_time": "2022-12-07T05:45:54.533Z"
   },
   {
    "duration": 12,
    "start_time": "2022-12-07T05:45:54.584Z"
   },
   {
    "duration": 14,
    "start_time": "2022-12-07T05:45:54.597Z"
   },
   {
    "duration": 4,
    "start_time": "2022-12-07T05:45:54.612Z"
   },
   {
    "duration": 15,
    "start_time": "2022-12-07T05:45:54.617Z"
   },
   {
    "duration": 13,
    "start_time": "2022-12-07T05:45:54.634Z"
   },
   {
    "duration": 6,
    "start_time": "2022-12-07T05:45:54.648Z"
   },
   {
    "duration": 33,
    "start_time": "2022-12-07T05:45:54.655Z"
   },
   {
    "duration": 36,
    "start_time": "2022-12-07T05:45:54.690Z"
   },
   {
    "duration": 12,
    "start_time": "2022-12-07T05:45:54.728Z"
   },
   {
    "duration": 18,
    "start_time": "2022-12-07T05:45:54.741Z"
   },
   {
    "duration": 7,
    "start_time": "2022-12-07T05:45:54.760Z"
   },
   {
    "duration": 8,
    "start_time": "2022-12-07T05:45:54.768Z"
   },
   {
    "duration": 4,
    "start_time": "2022-12-07T05:45:54.777Z"
   },
   {
    "duration": 40,
    "start_time": "2022-12-07T05:45:54.783Z"
   },
   {
    "duration": 21,
    "start_time": "2022-12-07T05:45:54.825Z"
   },
   {
    "duration": 22,
    "start_time": "2022-12-07T05:45:54.847Z"
   },
   {
    "duration": 18,
    "start_time": "2022-12-07T05:45:54.870Z"
   },
   {
    "duration": 3,
    "start_time": "2022-12-07T05:45:54.893Z"
   },
   {
    "duration": 9,
    "start_time": "2022-12-07T05:45:54.898Z"
   },
   {
    "duration": 42,
    "start_time": "2022-12-07T05:45:54.909Z"
   },
   {
    "duration": 3,
    "start_time": "2022-12-07T05:45:54.953Z"
   },
   {
    "duration": 306,
    "start_time": "2022-12-07T05:45:54.957Z"
   },
   {
    "duration": 30,
    "start_time": "2022-12-07T05:45:55.265Z"
   },
   {
    "duration": 28,
    "start_time": "2022-12-07T05:45:55.297Z"
   },
   {
    "duration": 206,
    "start_time": "2022-12-07T05:45:55.327Z"
   },
   {
    "duration": 9,
    "start_time": "2022-12-07T05:45:55.535Z"
   },
   {
    "duration": 197,
    "start_time": "2022-12-07T05:45:55.545Z"
   },
   {
    "duration": 60,
    "start_time": "2022-12-07T05:45:55.743Z"
   },
   {
    "duration": 214,
    "start_time": "2022-12-07T05:45:55.805Z"
   },
   {
    "duration": 10,
    "start_time": "2022-12-07T05:45:56.021Z"
   },
   {
    "duration": 972,
    "start_time": "2022-12-07T05:45:56.033Z"
   },
   {
    "duration": 7,
    "start_time": "2022-12-07T05:45:57.007Z"
   },
   {
    "duration": 169,
    "start_time": "2022-12-07T05:45:57.021Z"
   },
   {
    "duration": 8,
    "start_time": "2022-12-07T05:45:57.192Z"
   },
   {
    "duration": 193,
    "start_time": "2022-12-07T05:45:57.201Z"
   },
   {
    "duration": 8,
    "start_time": "2022-12-07T05:45:57.395Z"
   },
   {
    "duration": 157,
    "start_time": "2022-12-07T05:45:57.405Z"
   },
   {
    "duration": 9,
    "start_time": "2022-12-07T05:45:57.563Z"
   },
   {
    "duration": 131,
    "start_time": "2022-12-07T05:45:57.574Z"
   },
   {
    "duration": 18,
    "start_time": "2022-12-07T05:45:57.707Z"
   },
   {
    "duration": 166,
    "start_time": "2022-12-07T05:45:57.727Z"
   },
   {
    "duration": 8,
    "start_time": "2022-12-07T05:45:57.895Z"
   },
   {
    "duration": 168,
    "start_time": "2022-12-07T05:45:57.905Z"
   },
   {
    "duration": 9,
    "start_time": "2022-12-07T05:45:58.074Z"
   },
   {
    "duration": 257,
    "start_time": "2022-12-07T05:45:58.084Z"
   },
   {
    "duration": 8,
    "start_time": "2022-12-07T05:45:58.343Z"
   },
   {
    "duration": 161,
    "start_time": "2022-12-07T05:45:58.352Z"
   },
   {
    "duration": 19,
    "start_time": "2022-12-07T05:45:58.516Z"
   },
   {
    "duration": 184,
    "start_time": "2022-12-07T05:45:58.536Z"
   },
   {
    "duration": 168,
    "start_time": "2022-12-07T05:45:58.722Z"
   },
   {
    "duration": 8,
    "start_time": "2022-12-07T05:45:58.892Z"
   },
   {
    "duration": 128,
    "start_time": "2022-12-07T05:45:58.902Z"
   },
   {
    "duration": 236,
    "start_time": "2022-12-07T05:45:59.031Z"
   },
   {
    "duration": 2,
    "start_time": "2022-12-07T05:45:59.269Z"
   },
   {
    "duration": 18,
    "start_time": "2022-12-07T05:45:59.273Z"
   },
   {
    "duration": 10,
    "start_time": "2022-12-07T05:45:59.293Z"
   },
   {
    "duration": 197,
    "start_time": "2022-12-07T05:45:59.305Z"
   },
   {
    "duration": 187,
    "start_time": "2022-12-07T05:45:59.503Z"
   },
   {
    "duration": 186,
    "start_time": "2022-12-07T05:45:59.691Z"
   },
   {
    "duration": 150,
    "start_time": "2022-12-07T05:45:59.879Z"
   },
   {
    "duration": 200,
    "start_time": "2022-12-07T05:46:00.031Z"
   },
   {
    "duration": 159,
    "start_time": "2022-12-07T05:46:00.233Z"
   },
   {
    "duration": 160,
    "start_time": "2022-12-07T05:46:00.394Z"
   },
   {
    "duration": 157,
    "start_time": "2022-12-07T05:46:00.557Z"
   },
   {
    "duration": 2164,
    "start_time": "2022-12-07T05:46:00.716Z"
   },
   {
    "duration": 187,
    "start_time": "2022-12-07T05:46:02.882Z"
   },
   {
    "duration": 271,
    "start_time": "2022-12-07T05:46:03.070Z"
   },
   {
    "duration": 16,
    "start_time": "2022-12-07T05:46:43.562Z"
   },
   {
    "duration": 149,
    "start_time": "2022-12-07T05:46:46.795Z"
   },
   {
    "duration": 1151,
    "start_time": "2022-12-07T05:59:16.961Z"
   }
  ],
  "colab": {
   "provenance": []
  },
  "kernelspec": {
   "display_name": "Python 3 (ipykernel)",
   "language": "python",
   "name": "python3"
  },
  "language_info": {
   "codemirror_mode": {
    "name": "ipython",
    "version": 3
   },
   "file_extension": ".py",
   "mimetype": "text/x-python",
   "name": "python",
   "nbconvert_exporter": "python",
   "pygments_lexer": "ipython3",
   "version": "3.9.5"
  },
  "toc": {
   "base_numbering": 1,
   "nav_menu": {},
   "number_sections": true,
   "sideBar": true,
   "skip_h1_title": true,
   "title_cell": "Table of Contents",
   "title_sidebar": "Contents",
   "toc_cell": false,
   "toc_position": {},
   "toc_section_display": true,
   "toc_window_display": false
  }
 },
 "nbformat": 4,
 "nbformat_minor": 1
}
